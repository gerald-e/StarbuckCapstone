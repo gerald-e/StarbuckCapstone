{
 "cells": [
  {
   "cell_type": "markdown",
   "metadata": {},
   "source": [
    "# Starbucks Capstone Challenge\n",
    "\n",
    "This analysis focuses on Starbuck's offer data and rating. The analysis also goes hand in hand with the thesis on achieving the Data Scientist Nanodegree Project. The data extract was provided by Udacity [Data Scientist Nanodegree](https://www.udacity.com/course/data-scientist-nanodegree--nd025) (https://www.udacity.com/).\n",
    "\n",
    "\n",
    "## Table of Contents\n",
    "<ol>\n",
    "    <li><a href=\"#intro\">Introduction</a></li>\n",
    "    <li><a href=\"#business\">Business Understanding - Problem Statement</a></li>\n",
    "    <li><a href=\"#Gather\">Gather</a></li>\n",
    "    <li><a href=\"#GetData\">Get the data</a>\n",
    "    <li><a href=\"#DataUnder\">Data Understanding</a>\n",
    "    <ol type=\"1\">\n",
    "        <li><a href=\"#transcript\">Transcripts</a></li>\n",
    "        <li><a href=\"#profile\">Profile</a></li>\n",
    "        <li><a href=\"#portfolio\">Portfolio</a></li>\n",
    "    </ol></li>\n",
    "    <li><a href=\"#DataPrep\">Data Preparation</a>\n",
    "    <ol type=\"1\">\n",
    "        <li><a href=\"#cleanportfolio\">Cleaning Data Frame Portfolio</a>\n",
    "        <li><a href=\"#cleanprofile\">Cleaning Data Frame Profile</a>\n",
    "        <li><a href=\"#cleantranscript\">Cleaning Data Frame Transcripts</a>\n",
    "        <li><a href=\"#engineer\">Feature Engineering</a>\n",
    "    </ol></li> \n",
    "    <li><a href=\"#Model\">Modeling</a>\n",
    "    <ol type=\"1\">\n",
    "        <li><a href=\"#LabelModel\">Label for Modeling</a></li>\n",
    "        <li><a href=\"#NormModel\">Normalize for Modeling </a></li>\n",
    "        <li><a href=\"#pipline\">Make a Pipline to Find the Best Model</a></li> \n",
    "        <li><a href=\"#improvements\">Model Improvements</a></li> \n",
    "    </ol></li>\n",
    "    <li><a href=\"#evaluation\">Evaluation, design and show the results</a>\n",
    "    <ol type=\"1\">\n",
    "        <li><a href=\"#features\">Find the Best Features</a></li>\n",
    "        <li><a href=\"#PCA\">PCA with the Offer Model</a></li>\n",
    "        <li><a href=\"#EvalConclusion\">Conclusion</a></li>\n",
    "        <li><a href=\"#Enhancement\">Possible Enhancement in the Future</a></li>\n",
    "    </ol></li>\n",
    "    <li><a href=\"#Deploy\">Deployment</a>\n",
    "</ol>"
   ]
  },
  {
   "cell_type": "markdown",
   "metadata": {},
   "source": [
    "<a id='intro'></a>\n",
    "## 1. Introduction\n",
    "\n",
    "The data and methods used in this notebook are used by implementing the cross-industry standard process for data mining (CRISP-DM) as part of the project requirements for Udacity's data scientist Nanodegree. The CRISP-DM process encompasses six elements:\n",
    "\n",
    "1. Business Understanding\n",
    "2. Data Understanding\n",
    "3. Data Preparation\n",
    "4. Modeling\n",
    "5. Evaluation\n",
    "6. Deployment\n",
    "\n",
    "The data is gathered, explored and models built on it. When the results are completed, they are made available in the form of a blog post that is aimed at a general target group and informs them about the action elements."
   ]
  },
  {
   "cell_type": "markdown",
   "metadata": {},
   "source": [
    "<a id='business'></a>\n",
    "## 2. Problem Statement - Business Understanding\n",
    "\n",
    "This data set contains simulated data that mimics customer behavior on the Starbucks rewards mobile app. Once every few days, Starbucks sends out an offer to users of the mobile app. An offer can be merely an advertisement for a drink or an actual offer such as a discount or BOGO (buy one get one free). Some users might not receive any offer during certain weeks.\n",
    "\n",
    "Not all users receive the same offer, and that is the challenge to solve with this data set.\n",
    "\n",
    "Your task is to combine transaction, demographic and offer data to determine which demographic groups respond best to which offer type. This data set is a simplified version of the real Starbucks app because the underlying simulator only has one product whereas Starbucks actually sells dozens of products.\n",
    "\n",
    "Every offer has a validity period before the offer expires. As an example, a BOGO offer might be valid for only 5 days. You'll see in the data set that informational offers have a validity period even though these ads are merely providing information about a product; for example, if an informational offer has 7 days of validity, you can assume the customer is feeling the influence of the offer for 7 days after receiving the advertisement.\n",
    "\n",
    "The given transactional data showing user purchases made on the app including the timestamp of purchase and the amount of money spent on a purchase. This transactional data also has a record for each offer that a user receives as well as a record for when a user actually views the offer. There are also records for when a user completes an offer.\n",
    "\n",
    "In some case might make a purchase through the app without having received an offer or seen an offer.\n",
    "\n",
    "1. Who are Starbucks customers (gender and age)\n",
    "2. What income do customers have and what do they spend\n",
    "3. How can offers be assigned to customers (offer, age group, gender)\n",
    "4. Which offers are most accepted by customers (type of offer, customer group (m / f / c / d))\n"
   ]
  },
  {
   "cell_type": "markdown",
   "metadata": {},
   "source": [
    "<a id='Gather'></a>\n",
    "## 3. Gather \n",
    "\n",
    "First, let's read the  necessary libraries and set initial value."
   ]
  },
  {
   "cell_type": "code",
   "execution_count": 1,
   "metadata": {},
   "outputs": [],
   "source": [
    "# Import python libraries and data\n",
    "import pandas as pd\n",
    "import numpy as np\n",
    "import math\n",
    "import json\n",
    "import re\n",
    "import matplotlib.pyplot as plt\n",
    "import datetime\n",
    "import time\n",
    "%matplotlib inline\n",
    "import seaborn as sns\n",
    "from sklearn.preprocessing import MinMaxScaler, StandardScaler, LabelEncoder\n",
    "from sklearn.model_selection import train_test_split, GridSearchCV, ShuffleSplit\n",
    "from sklearn.impute import SimpleImputer\n",
    "from sklearn.svm import SVC\n",
    "from sklearn.tree import DecisionTreeClassifier\n",
    "from sklearn.ensemble import RandomForestClassifier\n",
    "from sklearn.naive_bayes import GaussianNB\n",
    "from sklearn.ensemble import AdaBoostClassifier\n",
    "from sklearn.linear_model import LogisticRegression\n",
    "from sklearn.decomposition import PCA\n",
    "from sklearn.metrics import accuracy_score, f1_score, roc_auc_score, make_scorer, fbeta_score"
   ]
  },
  {
   "cell_type": "code",
   "execution_count": 2,
   "metadata": {},
   "outputs": [
    {
     "name": "stdout",
     "output_type": "stream",
     "text": [
      "Python 3.7.3\n"
     ]
    }
   ],
   "source": [
    "!python --version"
   ]
  },
  {
   "cell_type": "markdown",
   "metadata": {},
   "source": [
    "<a id='GetData'></a>\n",
    "## 4. Get the data\n",
    "\n",
    "The program used to create the data simulates how people make purchasing decisions and how those decisions are influenced by promotional offers.\n",
    "Each person in the simulation has some hidden traits that influence their purchasing patterns and are associated with their observable traits. People produce various events, including receiving offers, opening offers, and making purchases.\n",
    "As a simplification, there are no explicit products to track. Only the amounts of each transaction or offer are recorded.\n",
    "There are three types of offers that can be sent: buy-one-get-one (BOGO), discount, and informational. In a BOGO offer, a user needs to spend a certain amount to get a reward equal to that threshold amount. In a discount, a user gains a reward equal to a fraction of the amount spent. In an informational offer, there is no reward, but neither is there a requisite amount that the user is expected to spend. Offers can be delivered via multiple channels.\n",
    "The basic task is to use the data to identify which groups of people are most responsive to each type of offer, and how best to present each type of offer."
   ]
  },
  {
   "cell_type": "markdown",
   "metadata": {},
   "source": [
    "At first I look which data are avialable. The data is contained in three files:\n",
    "\n",
    "- **portfolio.json** - containing offer ids and meta data about each offer (duration, type, etc.)\n",
    "- **profile.json** - demographic data for each customer\n",
    "- **transcript.json** - records for transactions, offers received, offers viewed, and offers completed\n"
   ]
  },
  {
   "cell_type": "code",
   "execution_count": 3,
   "metadata": {},
   "outputs": [],
   "source": [
    "# read in the json files\n",
    "portfolio = pd.read_json('data/portfolio.json', orient='records', lines=True)\n",
    "profile = pd.read_json('data/profile.json', orient='records', lines=True)\n",
    "transcript = pd.read_json('data/transcript.json', orient='records', lines=True)"
   ]
  },
  {
   "cell_type": "markdown",
   "metadata": {},
   "source": [
    "<a id='DataUnder'></a>\n",
    "## 5. Data Understanding\n",
    "\n",
    "In order to get a better understanding of the data I'll looking closer, let's take a look at some of the characteristics of the dataset. Here is the schema and explanation of each variable in the files:"
   ]
  },
  {
   "cell_type": "markdown",
   "metadata": {},
   "source": [
    "\n",
    "**portfolio.json**\n",
    "* id (string) - offer id\n",
    "* offer_type (string) - type of offer ie BOGO, discount, informational\n",
    "* difficulty (int) - minimum required spend to complete an offer\n",
    "* reward (int) - reward given for completing an offer\n",
    "* duration (int) - time for offer to be open, in days\n",
    "* channels (list of strings)\n",
    "\n",
    "**profile.json**\n",
    "* age (int) - age of the customer \n",
    "* became_member_on (int) - date when customer created an app account\n",
    "* gender (str) - gender of the customer (note some entries contain 'O' for other rather than M or F)\n",
    "* id (str) - customer id\n",
    "* income (float) - customer's income\n",
    "\n",
    "**transcript.json**\n",
    "* event (str) - record description (ie transaction, offer received, offer viewed, etc.)\n",
    "* person (str) - customer id\n",
    "* time (int) - time in hours since start of test. The data begins at time t=0\n",
    "* value - (dict of strings) - either an offer id or transaction amount depending on the record\n"
   ]
  },
  {
   "cell_type": "code",
   "execution_count": 4,
   "metadata": {},
   "outputs": [],
   "source": [
    "def summary(data):\n",
    "    \"\"\" \n",
    "    Give a summary of the dataset\n",
    "   \n",
    "    Input:\n",
    "    data (DF): DataFrame\n",
    "\n",
    "    Returns:\n",
    "    Print statement with data shape and percentage\n",
    "    \"\"\"\n",
    "    data.info(verbose=True)\n",
    "    print('\\n')\n",
    "    print((data.isnull().sum()[data.isnull().sum()>0]/data.shape[0])*100)\n",
    "    print('\\n')  \n",
    "    print(\"no missing values\")\n",
    "    print(set(data.columns[data.isnull().mean()==0])) #Provide a set of columns with 0 missing values.\n",
    "    print('\\n')\n",
    "    print(\"most missing values\")\n",
    "    print(set(data.columns[data.isnull().mean() > 0.75])) #Provide a set of columns with more than 75% of the values missing  "
   ]
  },
  {
   "cell_type": "markdown",
   "metadata": {},
   "source": [
    "<a id='portfolio'></a>\n",
    "### 5.1. Portfolio"
   ]
  },
  {
   "cell_type": "code",
   "execution_count": 5,
   "metadata": {},
   "outputs": [
    {
     "name": "stdout",
     "output_type": "stream",
     "text": [
      "<class 'pandas.core.frame.DataFrame'>\n",
      "RangeIndex: 10 entries, 0 to 9\n",
      "Data columns (total 6 columns):\n",
      "reward        10 non-null int64\n",
      "channels      10 non-null object\n",
      "difficulty    10 non-null int64\n",
      "duration      10 non-null int64\n",
      "offer_type    10 non-null object\n",
      "id            10 non-null object\n",
      "dtypes: int64(3), object(3)\n",
      "memory usage: 608.0+ bytes\n",
      "\n",
      "\n",
      "Series([], dtype: float64)\n",
      "\n",
      "\n",
      "no missing values\n",
      "{'duration', 'offer_type', 'reward', 'channels', 'id', 'difficulty'}\n",
      "\n",
      "\n",
      "most missing values\n",
      "set()\n"
     ]
    }
   ],
   "source": [
    "summary(portfolio)"
   ]
  },
  {
   "cell_type": "code",
   "execution_count": 6,
   "metadata": {},
   "outputs": [
    {
     "data": {
      "text/html": [
       "<div>\n",
       "<style scoped>\n",
       "    .dataframe tbody tr th:only-of-type {\n",
       "        vertical-align: middle;\n",
       "    }\n",
       "\n",
       "    .dataframe tbody tr th {\n",
       "        vertical-align: top;\n",
       "    }\n",
       "\n",
       "    .dataframe thead th {\n",
       "        text-align: right;\n",
       "    }\n",
       "</style>\n",
       "<table border=\"1\" class=\"dataframe\">\n",
       "  <thead>\n",
       "    <tr style=\"text-align: right;\">\n",
       "      <th></th>\n",
       "      <th>reward</th>\n",
       "      <th>channels</th>\n",
       "      <th>difficulty</th>\n",
       "      <th>duration</th>\n",
       "      <th>offer_type</th>\n",
       "      <th>id</th>\n",
       "    </tr>\n",
       "  </thead>\n",
       "  <tbody>\n",
       "    <tr>\n",
       "      <th>7</th>\n",
       "      <td>0</td>\n",
       "      <td>[email, mobile, social]</td>\n",
       "      <td>0</td>\n",
       "      <td>3</td>\n",
       "      <td>informational</td>\n",
       "      <td>5a8bc65990b245e5a138643cd4eb9837</td>\n",
       "    </tr>\n",
       "    <tr>\n",
       "      <th>5</th>\n",
       "      <td>3</td>\n",
       "      <td>[web, email, mobile, social]</td>\n",
       "      <td>7</td>\n",
       "      <td>7</td>\n",
       "      <td>discount</td>\n",
       "      <td>2298d6c36e964ae4a3e7e9706d1fb8c2</td>\n",
       "    </tr>\n",
       "    <tr>\n",
       "      <th>6</th>\n",
       "      <td>2</td>\n",
       "      <td>[web, email, mobile, social]</td>\n",
       "      <td>10</td>\n",
       "      <td>10</td>\n",
       "      <td>discount</td>\n",
       "      <td>fafdcd668e3743c1bb461111dcafc2a4</td>\n",
       "    </tr>\n",
       "    <tr>\n",
       "      <th>9</th>\n",
       "      <td>2</td>\n",
       "      <td>[web, email, mobile]</td>\n",
       "      <td>10</td>\n",
       "      <td>7</td>\n",
       "      <td>discount</td>\n",
       "      <td>2906b810c7d4411798c6938adc9daaa5</td>\n",
       "    </tr>\n",
       "    <tr>\n",
       "      <th>0</th>\n",
       "      <td>10</td>\n",
       "      <td>[email, mobile, social]</td>\n",
       "      <td>10</td>\n",
       "      <td>7</td>\n",
       "      <td>bogo</td>\n",
       "      <td>ae264e3637204a6fb9bb56bc8210ddfd</td>\n",
       "    </tr>\n",
       "  </tbody>\n",
       "</table>\n",
       "</div>"
      ],
      "text/plain": [
       "   reward                      channels  difficulty  duration     offer_type  \\\n",
       "7       0       [email, mobile, social]           0         3  informational   \n",
       "5       3  [web, email, mobile, social]           7         7       discount   \n",
       "6       2  [web, email, mobile, social]          10        10       discount   \n",
       "9       2          [web, email, mobile]          10         7       discount   \n",
       "0      10       [email, mobile, social]          10         7           bogo   \n",
       "\n",
       "                                 id  \n",
       "7  5a8bc65990b245e5a138643cd4eb9837  \n",
       "5  2298d6c36e964ae4a3e7e9706d1fb8c2  \n",
       "6  fafdcd668e3743c1bb461111dcafc2a4  \n",
       "9  2906b810c7d4411798c6938adc9daaa5  \n",
       "0  ae264e3637204a6fb9bb56bc8210ddfd  "
      ]
     },
     "execution_count": 6,
     "metadata": {},
     "output_type": "execute_result"
    }
   ],
   "source": [
    "# give me some samples\n",
    "portfolio.sample(5)"
   ]
  },
  {
   "cell_type": "code",
   "execution_count": 7,
   "metadata": {},
   "outputs": [
    {
     "data": {
      "text/plain": [
       "0         [email, mobile, social]\n",
       "4                    [web, email]\n",
       "8    [web, email, mobile, social]\n",
       "2            [web, email, mobile]\n",
       "9            [web, email, mobile]\n",
       "Name: channels, dtype: object"
      ]
     },
     "execution_count": 7,
     "metadata": {},
     "output_type": "execute_result"
    }
   ],
   "source": [
    "# give me a deeper look in the channels \n",
    "portfolio.channels.sample(5)"
   ]
  },
  {
   "cell_type": "markdown",
   "metadata": {},
   "source": [
    "**Interim result**\n",
    "\n",
    "The first look at the portfolio data frame gives a hint with no missing values by only 10 entries. That's a smale data set. But it appears that some duplicates are included. The `channel` also contains several pieces of information. These have to be divided. So I need a\n",
    "\n",
    "- Cleaning function for row `channels` a bit flag for any type\n",
    "- clean `duration` to hours expression instead days\n",
    "- Make sure ther are no duplicates"
   ]
  },
  {
   "cell_type": "markdown",
   "metadata": {},
   "source": [
    "<a id='profile'></a>\n",
    "### 5.2. Profile"
   ]
  },
  {
   "cell_type": "code",
   "execution_count": 8,
   "metadata": {},
   "outputs": [
    {
     "name": "stdout",
     "output_type": "stream",
     "text": [
      "<class 'pandas.core.frame.DataFrame'>\n",
      "RangeIndex: 17000 entries, 0 to 16999\n",
      "Data columns (total 5 columns):\n",
      "gender              14825 non-null object\n",
      "age                 17000 non-null int64\n",
      "id                  17000 non-null object\n",
      "became_member_on    17000 non-null int64\n",
      "income              14825 non-null float64\n",
      "dtypes: float64(1), int64(2), object(2)\n",
      "memory usage: 664.2+ KB\n",
      "\n",
      "\n",
      "gender    12.794118\n",
      "income    12.794118\n",
      "dtype: float64\n",
      "\n",
      "\n",
      "no missing values\n",
      "{'id', 'became_member_on', 'age'}\n",
      "\n",
      "\n",
      "most missing values\n",
      "set()\n"
     ]
    }
   ],
   "source": [
    "summary(profile)"
   ]
  },
  {
   "cell_type": "code",
   "execution_count": 9,
   "metadata": {},
   "outputs": [
    {
     "data": {
      "text/html": [
       "<div>\n",
       "<style scoped>\n",
       "    .dataframe tbody tr th:only-of-type {\n",
       "        vertical-align: middle;\n",
       "    }\n",
       "\n",
       "    .dataframe tbody tr th {\n",
       "        vertical-align: top;\n",
       "    }\n",
       "\n",
       "    .dataframe thead th {\n",
       "        text-align: right;\n",
       "    }\n",
       "</style>\n",
       "<table border=\"1\" class=\"dataframe\">\n",
       "  <thead>\n",
       "    <tr style=\"text-align: right;\">\n",
       "      <th></th>\n",
       "      <th>gender</th>\n",
       "      <th>age</th>\n",
       "      <th>id</th>\n",
       "      <th>became_member_on</th>\n",
       "      <th>income</th>\n",
       "    </tr>\n",
       "  </thead>\n",
       "  <tbody>\n",
       "    <tr>\n",
       "      <th>14076</th>\n",
       "      <td>M</td>\n",
       "      <td>70</td>\n",
       "      <td>594bea74b95e4cc1b6a2f95550c62b6e</td>\n",
       "      <td>20180112</td>\n",
       "      <td>66000.0</td>\n",
       "    </tr>\n",
       "    <tr>\n",
       "      <th>16126</th>\n",
       "      <td>None</td>\n",
       "      <td>118</td>\n",
       "      <td>ffecb1f8543f4bf7bade023de366d6bf</td>\n",
       "      <td>20171027</td>\n",
       "      <td>NaN</td>\n",
       "    </tr>\n",
       "    <tr>\n",
       "      <th>9372</th>\n",
       "      <td>F</td>\n",
       "      <td>58</td>\n",
       "      <td>6b36a1deee924d688236c11416854db0</td>\n",
       "      <td>20151005</td>\n",
       "      <td>32000.0</td>\n",
       "    </tr>\n",
       "    <tr>\n",
       "      <th>5277</th>\n",
       "      <td>None</td>\n",
       "      <td>118</td>\n",
       "      <td>1b4bf9e26285487f9db6dd6ea0f233d6</td>\n",
       "      <td>20180520</td>\n",
       "      <td>NaN</td>\n",
       "    </tr>\n",
       "    <tr>\n",
       "      <th>12517</th>\n",
       "      <td>None</td>\n",
       "      <td>118</td>\n",
       "      <td>82438a367b064f298f4a81ed2ad5f8b0</td>\n",
       "      <td>20180619</td>\n",
       "      <td>NaN</td>\n",
       "    </tr>\n",
       "  </tbody>\n",
       "</table>\n",
       "</div>"
      ],
      "text/plain": [
       "      gender  age                                id  became_member_on   income\n",
       "14076      M   70  594bea74b95e4cc1b6a2f95550c62b6e          20180112  66000.0\n",
       "16126   None  118  ffecb1f8543f4bf7bade023de366d6bf          20171027      NaN\n",
       "9372       F   58  6b36a1deee924d688236c11416854db0          20151005  32000.0\n",
       "5277    None  118  1b4bf9e26285487f9db6dd6ea0f233d6          20180520      NaN\n",
       "12517   None  118  82438a367b064f298f4a81ed2ad5f8b0          20180619      NaN"
      ]
     },
     "execution_count": 9,
     "metadata": {},
     "output_type": "execute_result"
    }
   ],
   "source": [
    "# give me some samples\n",
    "profile.sample(5)"
   ]
  },
  {
   "cell_type": "code",
   "execution_count": 10,
   "metadata": {},
   "outputs": [
    {
     "data": {
      "text/html": [
       "<div>\n",
       "<style scoped>\n",
       "    .dataframe tbody tr th:only-of-type {\n",
       "        vertical-align: middle;\n",
       "    }\n",
       "\n",
       "    .dataframe tbody tr th {\n",
       "        vertical-align: top;\n",
       "    }\n",
       "\n",
       "    .dataframe thead th {\n",
       "        text-align: right;\n",
       "    }\n",
       "</style>\n",
       "<table border=\"1\" class=\"dataframe\">\n",
       "  <thead>\n",
       "    <tr style=\"text-align: right;\">\n",
       "      <th></th>\n",
       "      <th>age</th>\n",
       "      <th>became_member_on</th>\n",
       "      <th>income</th>\n",
       "    </tr>\n",
       "  </thead>\n",
       "  <tbody>\n",
       "    <tr>\n",
       "      <th>count</th>\n",
       "      <td>17000.000000</td>\n",
       "      <td>1.700000e+04</td>\n",
       "      <td>14825.000000</td>\n",
       "    </tr>\n",
       "    <tr>\n",
       "      <th>mean</th>\n",
       "      <td>62.531412</td>\n",
       "      <td>2.016703e+07</td>\n",
       "      <td>65404.991568</td>\n",
       "    </tr>\n",
       "    <tr>\n",
       "      <th>std</th>\n",
       "      <td>26.738580</td>\n",
       "      <td>1.167750e+04</td>\n",
       "      <td>21598.299410</td>\n",
       "    </tr>\n",
       "    <tr>\n",
       "      <th>min</th>\n",
       "      <td>18.000000</td>\n",
       "      <td>2.013073e+07</td>\n",
       "      <td>30000.000000</td>\n",
       "    </tr>\n",
       "    <tr>\n",
       "      <th>25%</th>\n",
       "      <td>45.000000</td>\n",
       "      <td>2.016053e+07</td>\n",
       "      <td>49000.000000</td>\n",
       "    </tr>\n",
       "    <tr>\n",
       "      <th>50%</th>\n",
       "      <td>58.000000</td>\n",
       "      <td>2.017080e+07</td>\n",
       "      <td>64000.000000</td>\n",
       "    </tr>\n",
       "    <tr>\n",
       "      <th>75%</th>\n",
       "      <td>73.000000</td>\n",
       "      <td>2.017123e+07</td>\n",
       "      <td>80000.000000</td>\n",
       "    </tr>\n",
       "    <tr>\n",
       "      <th>max</th>\n",
       "      <td>118.000000</td>\n",
       "      <td>2.018073e+07</td>\n",
       "      <td>120000.000000</td>\n",
       "    </tr>\n",
       "  </tbody>\n",
       "</table>\n",
       "</div>"
      ],
      "text/plain": [
       "                age  became_member_on         income\n",
       "count  17000.000000      1.700000e+04   14825.000000\n",
       "mean      62.531412      2.016703e+07   65404.991568\n",
       "std       26.738580      1.167750e+04   21598.299410\n",
       "min       18.000000      2.013073e+07   30000.000000\n",
       "25%       45.000000      2.016053e+07   49000.000000\n",
       "50%       58.000000      2.017080e+07   64000.000000\n",
       "75%       73.000000      2.017123e+07   80000.000000\n",
       "max      118.000000      2.018073e+07  120000.000000"
      ]
     },
     "execution_count": 10,
     "metadata": {},
     "output_type": "execute_result"
    }
   ],
   "source": [
    "# here I have some unclear columns. let see what is the matter ...\n",
    "profile.describe()"
   ]
  },
  {
   "cell_type": "code",
   "execution_count": 11,
   "metadata": {},
   "outputs": [
    {
     "data": {
      "text/plain": [
       "gender              2175\n",
       "age                    0\n",
       "id                     0\n",
       "became_member_on       0\n",
       "income              2175\n",
       "dtype: int64"
      ]
     },
     "execution_count": 11,
     "metadata": {},
     "output_type": "execute_result"
    }
   ],
   "source": [
    "# where I have some null values \n",
    "profile.isnull().sum()"
   ]
  },
  {
   "cell_type": "code",
   "execution_count": 12,
   "metadata": {},
   "outputs": [
    {
     "name": "stdout",
     "output_type": "stream",
     "text": [
      "Age of unique customers and nulls to gender: 118\n"
     ]
    }
   ],
   "source": [
    "# a closer look into column age and gender\n",
    "print(f\"Age of unique customers and nulls to gender: {profile.age[profile.gender.isnull()][0]}\")"
   ]
  },
  {
   "cell_type": "code",
   "execution_count": 13,
   "metadata": {},
   "outputs": [
    {
     "name": "stdout",
     "output_type": "stream",
     "text": [
      "Count age vs gender with null values: 2175\n",
      "Count unqiue customers with null values: 1\n"
     ]
    }
   ],
   "source": [
    "# investigate the column gender a little bit more\n",
    "print(f\"Count age vs gender with null values: {profile.age[profile.gender.isnull()].value_counts().iloc[0]}\")\n",
    "print(f\"Count unqiue customers with null values: {profile.age[profile.gender.isnull()].nunique()}\")"
   ]
  },
  {
   "cell_type": "markdown",
   "metadata": {},
   "source": [
    "**Interim result**\n",
    "\n",
    "17,000 customer data are available in the profile file. For some columns, such as `gender` and `income` variables, no information is available. These have to be resolved.\n",
    "\n",
    "A customer seems to have an unusual record. This has an age of 118 years. Since this interferes with further evaluation, it is later deleted from the file with a cleaning function.\n",
    "\n",
    "So it looks like the following tasks are pending: \n",
    "\n",
    "- Make sure there are no duplications\n",
    "- `became_member_on` should be converted to date\n",
    "    - should split into `year`, `month`, `day`\n",
    "- Fill NULL values for `gender` and `income` values\n",
    "    - `gender` is a categorical variable, so you can fill gender with \"O\" for other\n",
    "    - `income` needs to be filled with value that is apropriate with income distributions\n",
    "- Delete unusual row with `age` 118"
   ]
  },
  {
   "cell_type": "markdown",
   "metadata": {},
   "source": [
    "<a id='transcript'></a>\n",
    "### 5.3. Transcript"
   ]
  },
  {
   "cell_type": "code",
   "execution_count": 14,
   "metadata": {},
   "outputs": [
    {
     "name": "stdout",
     "output_type": "stream",
     "text": [
      "<class 'pandas.core.frame.DataFrame'>\n",
      "RangeIndex: 306534 entries, 0 to 306533\n",
      "Data columns (total 4 columns):\n",
      "person    306534 non-null object\n",
      "event     306534 non-null object\n",
      "value     306534 non-null object\n",
      "time      306534 non-null int64\n",
      "dtypes: int64(1), object(3)\n",
      "memory usage: 9.4+ MB\n",
      "\n",
      "\n",
      "Series([], dtype: float64)\n",
      "\n",
      "\n",
      "no missing values\n",
      "{'value', 'person', 'event', 'time'}\n",
      "\n",
      "\n",
      "most missing values\n",
      "set()\n"
     ]
    }
   ],
   "source": [
    "summary(transcript)"
   ]
  },
  {
   "cell_type": "code",
   "execution_count": 15,
   "metadata": {},
   "outputs": [
    {
     "data": {
      "text/html": [
       "<div>\n",
       "<style scoped>\n",
       "    .dataframe tbody tr th:only-of-type {\n",
       "        vertical-align: middle;\n",
       "    }\n",
       "\n",
       "    .dataframe tbody tr th {\n",
       "        vertical-align: top;\n",
       "    }\n",
       "\n",
       "    .dataframe thead th {\n",
       "        text-align: right;\n",
       "    }\n",
       "</style>\n",
       "<table border=\"1\" class=\"dataframe\">\n",
       "  <thead>\n",
       "    <tr style=\"text-align: right;\">\n",
       "      <th></th>\n",
       "      <th>person</th>\n",
       "      <th>event</th>\n",
       "      <th>value</th>\n",
       "      <th>time</th>\n",
       "    </tr>\n",
       "  </thead>\n",
       "  <tbody>\n",
       "    <tr>\n",
       "      <th>196021</th>\n",
       "      <td>d51cb02965d34146949deb979c1d6ae9</td>\n",
       "      <td>transaction</td>\n",
       "      <td>{'amount': 0.97}</td>\n",
       "      <td>480</td>\n",
       "    </tr>\n",
       "    <tr>\n",
       "      <th>166554</th>\n",
       "      <td>a5de55851a684b2f8b31a7d9043f0210</td>\n",
       "      <td>offer viewed</td>\n",
       "      <td>{'offer id': '4d5c57ea9a6940dd891ad53e9dbe8da0'}</td>\n",
       "      <td>408</td>\n",
       "    </tr>\n",
       "    <tr>\n",
       "      <th>128825</th>\n",
       "      <td>8ed66913c59348ca9e5ff003863ff830</td>\n",
       "      <td>offer viewed</td>\n",
       "      <td>{'offer id': '0b1e1539f2cc45b7b9fa7c272da2e1d7'}</td>\n",
       "      <td>342</td>\n",
       "    </tr>\n",
       "    <tr>\n",
       "      <th>169254</th>\n",
       "      <td>8d87b4721b494123b655374a403a75ed</td>\n",
       "      <td>offer viewed</td>\n",
       "      <td>{'offer id': 'ae264e3637204a6fb9bb56bc8210ddfd'}</td>\n",
       "      <td>414</td>\n",
       "    </tr>\n",
       "    <tr>\n",
       "      <th>22404</th>\n",
       "      <td>5cc1bd3f5c374619af785107a9fe684f</td>\n",
       "      <td>offer viewed</td>\n",
       "      <td>{'offer id': '5a8bc65990b245e5a138643cd4eb9837'}</td>\n",
       "      <td>24</td>\n",
       "    </tr>\n",
       "  </tbody>\n",
       "</table>\n",
       "</div>"
      ],
      "text/plain": [
       "                                  person         event  \\\n",
       "196021  d51cb02965d34146949deb979c1d6ae9   transaction   \n",
       "166554  a5de55851a684b2f8b31a7d9043f0210  offer viewed   \n",
       "128825  8ed66913c59348ca9e5ff003863ff830  offer viewed   \n",
       "169254  8d87b4721b494123b655374a403a75ed  offer viewed   \n",
       "22404   5cc1bd3f5c374619af785107a9fe684f  offer viewed   \n",
       "\n",
       "                                                   value  time  \n",
       "196021                                  {'amount': 0.97}   480  \n",
       "166554  {'offer id': '4d5c57ea9a6940dd891ad53e9dbe8da0'}   408  \n",
       "128825  {'offer id': '0b1e1539f2cc45b7b9fa7c272da2e1d7'}   342  \n",
       "169254  {'offer id': 'ae264e3637204a6fb9bb56bc8210ddfd'}   414  \n",
       "22404   {'offer id': '5a8bc65990b245e5a138643cd4eb9837'}    24  "
      ]
     },
     "execution_count": 15,
     "metadata": {},
     "output_type": "execute_result"
    }
   ],
   "source": [
    "# give me some samples\n",
    "transcript.sample(5)"
   ]
  },
  {
   "cell_type": "code",
   "execution_count": 16,
   "metadata": {},
   "outputs": [
    {
     "data": {
      "text/plain": [
       "count    306534.000000\n",
       "mean        366.382940\n",
       "std         200.326314\n",
       "min           0.000000\n",
       "25%         186.000000\n",
       "50%         408.000000\n",
       "75%         528.000000\n",
       "max         714.000000\n",
       "Name: time, dtype: float64"
      ]
     },
     "execution_count": 16,
     "metadata": {},
     "output_type": "execute_result"
    }
   ],
   "source": [
    "# what can I do with the time column\n",
    "transcript.time.describe()"
   ]
  },
  {
   "cell_type": "code",
   "execution_count": 17,
   "metadata": {},
   "outputs": [
    {
     "data": {
      "text/plain": [
       "4748       {'offer id': '0b1e1539f2cc45b7b9fa7c272da2e1d7'}\n",
       "71499                                     {'amount': 19.12}\n",
       "236890                                     {'amount': 27.8}\n",
       "174489    {'offer_id': '0b1e1539f2cc45b7b9fa7c272da2e1d7...\n",
       "270587                                    {'amount': 21.43}\n",
       "120341     {'offer id': '2298d6c36e964ae4a3e7e9706d1fb8c2'}\n",
       "111607     {'offer id': '5a8bc65990b245e5a138643cd4eb9837'}\n",
       "152004     {'offer id': '0b1e1539f2cc45b7b9fa7c272da2e1d7'}\n",
       "302969    {'offer_id': '2298d6c36e964ae4a3e7e9706d1fb8c2...\n",
       "229773                                     {'amount': 2.51}\n",
       "Name: value, dtype: object"
      ]
     },
     "execution_count": 17,
     "metadata": {},
     "output_type": "execute_result"
    }
   ],
   "source": [
    "# the value column has several characteristics. let's take a closer look\n",
    "transcript.value.sample(10)"
   ]
  },
  {
   "cell_type": "markdown",
   "metadata": {},
   "source": [
    "**Interim result**\n",
    "\n",
    "The transcription file contains 306,534 entries. Here the variable `time` seems to be a key message. It specifies the dwell time for an event or every transaction for an offer. Here this column has to be considered in the cleaning function. Furthermore, the `value` column appears to contain more information. These have to be divided.\n",
    "\n",
    "Some updates that need to be made:\n",
    "- The `value` column needs has two different items and need to split in `value_type` and `value`"
   ]
  },
  {
   "cell_type": "markdown",
   "metadata": {},
   "source": [
    "<a id='DataPrep'></a>\n",
    "## 6 Data Preparation\n"
   ]
  },
  {
   "cell_type": "markdown",
   "metadata": {},
   "source": [
    "<a id='cleanportfolio'></a>\n",
    "### 6.1 Cleaning Data Frame Portfolio\n",
    " "
   ]
  },
  {
   "cell_type": "code",
   "execution_count": 18,
   "metadata": {},
   "outputs": [],
   "source": [
    "# copy the results ...\n",
    "portfolio_clean = portfolio.copy()"
   ]
  },
  {
   "cell_type": "code",
   "execution_count": 19,
   "metadata": {},
   "outputs": [
    {
     "data": {
      "text/plain": [
       "['email', 'mobile', 'social', 'web']"
      ]
     },
     "execution_count": 19,
     "metadata": {},
     "output_type": "execute_result"
    }
   ],
   "source": [
    "# lets splitting the channels in portfolio data frame and drop the source column\n",
    "\n",
    "def col_split(df, column):\n",
    "    splits = []\n",
    "    for s in df[column]:\n",
    "        for i in s:\n",
    "            if i not in splits:\n",
    "                splits.append(i)\n",
    "    for split in splits:\n",
    "        df[split] = df[column].apply(lambda x: 1 if split in x else 0)\n",
    "        \n",
    "    df.drop([column], axis=1, inplace=True) \n",
    "    \n",
    "    return splits\n",
    "\n",
    "col_split(portfolio_clean ,'channels')"
   ]
  },
  {
   "cell_type": "code",
   "execution_count": 20,
   "metadata": {},
   "outputs": [],
   "source": [
    "# minutes are stored in the duration column. these should be converted into hours. thus\n",
    "# a comparison with other data frames i.e. transcript is possible\n",
    "portfolio_clean['duration'] = portfolio_clean['duration'] * 24"
   ]
  },
  {
   "cell_type": "code",
   "execution_count": 21,
   "metadata": {},
   "outputs": [],
   "source": [
    "# rename id column in portfolio cause its a different to the other data frames \n",
    "portfolio_clean.rename(columns={'id': 'offer_id'}, inplace=True)"
   ]
  },
  {
   "cell_type": "code",
   "execution_count": 22,
   "metadata": {},
   "outputs": [
    {
     "data": {
      "text/plain": [
       "True"
      ]
     },
     "execution_count": 22,
     "metadata": {},
     "output_type": "execute_result"
    }
   ],
   "source": [
    "# Make sure that each row is unique\n",
    "len(np.unique(portfolio_clean['offer_id'])) == len(portfolio_clean)"
   ]
  },
  {
   "cell_type": "code",
   "execution_count": 23,
   "metadata": {},
   "outputs": [],
   "source": [
    "# One hot encode the 'offer_type' column\n",
    "column_ordering = ['offer_id',\n",
    "                    'difficulty',\n",
    "                    'durationdays',\n",
    "                    'reward',\n",
    "                   'offer_type',\n",
    "                   'offer_id',\n",
    "                   'email',\n",
    "                   'mobile',\n",
    "                   'social',\n",
    "                   'web'\n",
    "                  ]\n",
    "df_offertype = pd.get_dummies(portfolio['offer_type'])\n",
    "column_ordering.extend(df_offertype.columns.values)\n",
    "# Add the new offer type columns to data frame \n",
    "portfolio_clean = pd.concat([portfolio_clean, df_offertype], axis=1)"
   ]
  },
  {
   "cell_type": "code",
   "execution_count": 24,
   "metadata": {},
   "outputs": [
    {
     "data": {
      "text/html": [
       "<div>\n",
       "<style scoped>\n",
       "    .dataframe tbody tr th:only-of-type {\n",
       "        vertical-align: middle;\n",
       "    }\n",
       "\n",
       "    .dataframe tbody tr th {\n",
       "        vertical-align: top;\n",
       "    }\n",
       "\n",
       "    .dataframe thead th {\n",
       "        text-align: right;\n",
       "    }\n",
       "</style>\n",
       "<table border=\"1\" class=\"dataframe\">\n",
       "  <thead>\n",
       "    <tr style=\"text-align: right;\">\n",
       "      <th></th>\n",
       "      <th>reward</th>\n",
       "      <th>difficulty</th>\n",
       "      <th>duration</th>\n",
       "      <th>offer_type</th>\n",
       "      <th>offer_id</th>\n",
       "      <th>email</th>\n",
       "      <th>mobile</th>\n",
       "      <th>social</th>\n",
       "      <th>web</th>\n",
       "      <th>bogo</th>\n",
       "      <th>discount</th>\n",
       "      <th>informational</th>\n",
       "    </tr>\n",
       "  </thead>\n",
       "  <tbody>\n",
       "    <tr>\n",
       "      <th>7</th>\n",
       "      <td>0</td>\n",
       "      <td>0</td>\n",
       "      <td>72</td>\n",
       "      <td>informational</td>\n",
       "      <td>5a8bc65990b245e5a138643cd4eb9837</td>\n",
       "      <td>1</td>\n",
       "      <td>1</td>\n",
       "      <td>1</td>\n",
       "      <td>0</td>\n",
       "      <td>0</td>\n",
       "      <td>0</td>\n",
       "      <td>1</td>\n",
       "    </tr>\n",
       "    <tr>\n",
       "      <th>6</th>\n",
       "      <td>2</td>\n",
       "      <td>10</td>\n",
       "      <td>240</td>\n",
       "      <td>discount</td>\n",
       "      <td>fafdcd668e3743c1bb461111dcafc2a4</td>\n",
       "      <td>1</td>\n",
       "      <td>1</td>\n",
       "      <td>1</td>\n",
       "      <td>1</td>\n",
       "      <td>0</td>\n",
       "      <td>1</td>\n",
       "      <td>0</td>\n",
       "    </tr>\n",
       "    <tr>\n",
       "      <th>1</th>\n",
       "      <td>10</td>\n",
       "      <td>10</td>\n",
       "      <td>120</td>\n",
       "      <td>bogo</td>\n",
       "      <td>4d5c57ea9a6940dd891ad53e9dbe8da0</td>\n",
       "      <td>1</td>\n",
       "      <td>1</td>\n",
       "      <td>1</td>\n",
       "      <td>1</td>\n",
       "      <td>1</td>\n",
       "      <td>0</td>\n",
       "      <td>0</td>\n",
       "    </tr>\n",
       "    <tr>\n",
       "      <th>0</th>\n",
       "      <td>10</td>\n",
       "      <td>10</td>\n",
       "      <td>168</td>\n",
       "      <td>bogo</td>\n",
       "      <td>ae264e3637204a6fb9bb56bc8210ddfd</td>\n",
       "      <td>1</td>\n",
       "      <td>1</td>\n",
       "      <td>1</td>\n",
       "      <td>0</td>\n",
       "      <td>1</td>\n",
       "      <td>0</td>\n",
       "      <td>0</td>\n",
       "    </tr>\n",
       "    <tr>\n",
       "      <th>5</th>\n",
       "      <td>3</td>\n",
       "      <td>7</td>\n",
       "      <td>168</td>\n",
       "      <td>discount</td>\n",
       "      <td>2298d6c36e964ae4a3e7e9706d1fb8c2</td>\n",
       "      <td>1</td>\n",
       "      <td>1</td>\n",
       "      <td>1</td>\n",
       "      <td>1</td>\n",
       "      <td>0</td>\n",
       "      <td>1</td>\n",
       "      <td>0</td>\n",
       "    </tr>\n",
       "  </tbody>\n",
       "</table>\n",
       "</div>"
      ],
      "text/plain": [
       "   reward  difficulty  duration     offer_type  \\\n",
       "7       0           0        72  informational   \n",
       "6       2          10       240       discount   \n",
       "1      10          10       120           bogo   \n",
       "0      10          10       168           bogo   \n",
       "5       3           7       168       discount   \n",
       "\n",
       "                           offer_id  email  mobile  social  web  bogo  \\\n",
       "7  5a8bc65990b245e5a138643cd4eb9837      1       1       1    0     0   \n",
       "6  fafdcd668e3743c1bb461111dcafc2a4      1       1       1    1     0   \n",
       "1  4d5c57ea9a6940dd891ad53e9dbe8da0      1       1       1    1     1   \n",
       "0  ae264e3637204a6fb9bb56bc8210ddfd      1       1       1    0     1   \n",
       "5  2298d6c36e964ae4a3e7e9706d1fb8c2      1       1       1    1     0   \n",
       "\n",
       "   discount  informational  \n",
       "7         0              1  \n",
       "6         1              0  \n",
       "1         0              0  \n",
       "0         0              0  \n",
       "5         1              0  "
      ]
     },
     "execution_count": 24,
     "metadata": {},
     "output_type": "execute_result"
    }
   ],
   "source": [
    "# show me the results\n",
    "portfolio_clean.sample(5)"
   ]
  },
  {
   "cell_type": "code",
   "execution_count": 25,
   "metadata": {},
   "outputs": [
    {
     "name": "stdout",
     "output_type": "stream",
     "text": [
      "<class 'pandas.core.frame.DataFrame'>\n",
      "RangeIndex: 10 entries, 0 to 9\n",
      "Data columns (total 12 columns):\n",
      "reward           10 non-null int64\n",
      "difficulty       10 non-null int64\n",
      "duration         10 non-null int64\n",
      "offer_type       10 non-null object\n",
      "offer_id         10 non-null object\n",
      "email            10 non-null int64\n",
      "mobile           10 non-null int64\n",
      "social           10 non-null int64\n",
      "web              10 non-null int64\n",
      "bogo             10 non-null uint8\n",
      "discount         10 non-null uint8\n",
      "informational    10 non-null uint8\n",
      "dtypes: int64(7), object(2), uint8(3)\n",
      "memory usage: 878.0+ bytes\n",
      "\n",
      "\n",
      "Series([], dtype: float64)\n",
      "\n",
      "\n",
      "no missing values\n",
      "{'discount', 'offer_type', 'duration', 'reward', 'email', 'social', 'informational', 'web', 'bogo', 'mobile', 'offer_id', 'difficulty'}\n",
      "\n",
      "\n",
      "most missing values\n",
      "set()\n"
     ]
    }
   ],
   "source": [
    "summary(portfolio_clean)"
   ]
  },
  {
   "cell_type": "code",
   "execution_count": 26,
   "metadata": {},
   "outputs": [
    {
     "data": {
      "text/plain": [
       "offer_type\n",
       "bogo             4\n",
       "discount         4\n",
       "informational    2\n",
       "Name: offer_id, dtype: int64"
      ]
     },
     "execution_count": 26,
     "metadata": {},
     "output_type": "execute_result"
    }
   ],
   "source": [
    "# a deeper look into offer_type\n",
    "portfolio_clean.groupby('offer_type')['offer_id'].count()"
   ]
  },
  {
   "cell_type": "markdown",
   "metadata": {},
   "source": [
    "**Interim result**\n",
    "\n",
    "In the portfolio data there are a total of 4 offers for BOGO, 4 for discounts and 2 informative offers. The BOGO offers and discounts are the essential information."
   ]
  },
  {
   "cell_type": "markdown",
   "metadata": {},
   "source": [
    "<a id='cleanprofile'></a>\n",
    "### 6.2 Cleaning Data Frame Profile\n",
    " "
   ]
  },
  {
   "cell_type": "code",
   "execution_count": 27,
   "metadata": {},
   "outputs": [],
   "source": [
    "# lets clean data frame profile\n",
    "\n",
    "def clean_df_profile(df):\n",
    "    \"\"\"\n",
    "    Return cleaned datasets with all string variables for gender, age, income. Lastly convert \n",
    "    membership_start, membership_period, split became_member_on into year, month, day, date in\n",
    "    dataframe with datetime. Also drop unusual customer.\n",
    "    \n",
    "    INPUTS:\n",
    "        df - dataframe for profile\n",
    "    OUTPUTS:\n",
    "        df_clean - cleaned dataframe for profile\n",
    "    \"\"\"\n",
    "    # copy for the results ...\n",
    "    df_clean = df.copy()\n",
    "    # For Gender, instead of assuming a gender, lets just make the gender Other\n",
    "    df_clean['gender'].fillna('O', inplace = True)\n",
    "    \n",
    "    df_clean['age'] = df_clean['age'].apply(lambda x: int(x))\n",
    "    # if there is no income, then take the average value\n",
    "    df_clean['income'] = df_clean['income'].apply(lambda x: float(x))\n",
    "    mean_val = profile.income.mean()\n",
    "    df_clean['income'].fillna(mean_val, inplace = True)\n",
    "\n",
    "    # adding a period of the membership by month\n",
    "    df_clean['membership_start'] = df_clean.became_member_on.apply(lambda x: pd.to_datetime(str(x), format='%Y%m%d'))\n",
    "    df_clean['membership_period'] = df_clean['membership_start'].dt.to_period('M')\n",
    "\n",
    "    # converting the 'became_member_on' column to date respectively creating more.\n",
    "    # So it means columns based on the year, month, day \n",
    "    df_clean['member_year'] = df_clean.became_member_on.apply(lambda x: int(str(x)[:4]))\n",
    "    df_clean['member_month'] = df_clean.became_member_on.apply(lambda x: int(str(x)[4:6]))\n",
    "    df_clean['member_day'] = df_clean.became_member_on.apply(lambda x: int(str(x)[6:]))\n",
    "    df_clean['member_date'] = df_clean.became_member_on.apply(lambda x: datetime.datetime.strptime(str(x), '%Y%m%d'))\n",
    "    df_clean.drop('became_member_on', axis = 1, inplace = True)\n",
    "    \n",
    "    # renaming the id column for the profile data\n",
    "    df_clean.rename(columns={'id': 'customer_id'}, inplace=True)\n",
    "    \n",
    "    # drop the costumer whose age value is '118'\n",
    "    df_clean = df_clean[df.age != 118]\n",
    "    \n",
    "    return df_clean"
   ]
  },
  {
   "cell_type": "code",
   "execution_count": 28,
   "metadata": {},
   "outputs": [],
   "source": [
    "# bevor I clean the profile data it's necassary to save the unuasal customer\n",
    "customer_to_drop = profile[profile['age'] == 118]"
   ]
  },
  {
   "cell_type": "code",
   "execution_count": 29,
   "metadata": {},
   "outputs": [],
   "source": [
    "# clean the dataframes profile\n",
    "profile_clean = clean_df_profile(profile)"
   ]
  },
  {
   "cell_type": "code",
   "execution_count": 30,
   "metadata": {},
   "outputs": [
    {
     "data": {
      "text/html": [
       "<div>\n",
       "<style scoped>\n",
       "    .dataframe tbody tr th:only-of-type {\n",
       "        vertical-align: middle;\n",
       "    }\n",
       "\n",
       "    .dataframe tbody tr th {\n",
       "        vertical-align: top;\n",
       "    }\n",
       "\n",
       "    .dataframe thead th {\n",
       "        text-align: right;\n",
       "    }\n",
       "</style>\n",
       "<table border=\"1\" class=\"dataframe\">\n",
       "  <thead>\n",
       "    <tr style=\"text-align: right;\">\n",
       "      <th></th>\n",
       "      <th>gender</th>\n",
       "      <th>age</th>\n",
       "      <th>customer_id</th>\n",
       "      <th>income</th>\n",
       "      <th>membership_start</th>\n",
       "      <th>membership_period</th>\n",
       "      <th>member_year</th>\n",
       "      <th>member_month</th>\n",
       "      <th>member_day</th>\n",
       "      <th>member_date</th>\n",
       "    </tr>\n",
       "  </thead>\n",
       "  <tbody>\n",
       "    <tr>\n",
       "      <th>4233</th>\n",
       "      <td>F</td>\n",
       "      <td>25</td>\n",
       "      <td>93e6fefaf5ba4d1594d57f3120603819</td>\n",
       "      <td>45000.0</td>\n",
       "      <td>2017-06-06</td>\n",
       "      <td>2017-06</td>\n",
       "      <td>2017</td>\n",
       "      <td>6</td>\n",
       "      <td>6</td>\n",
       "      <td>2017-06-06</td>\n",
       "    </tr>\n",
       "    <tr>\n",
       "      <th>4765</th>\n",
       "      <td>M</td>\n",
       "      <td>36</td>\n",
       "      <td>549dcda4abdb4803aa423e1d982a5f30</td>\n",
       "      <td>66000.0</td>\n",
       "      <td>2018-05-07</td>\n",
       "      <td>2018-05</td>\n",
       "      <td>2018</td>\n",
       "      <td>5</td>\n",
       "      <td>7</td>\n",
       "      <td>2018-05-07</td>\n",
       "    </tr>\n",
       "    <tr>\n",
       "      <th>5497</th>\n",
       "      <td>F</td>\n",
       "      <td>60</td>\n",
       "      <td>0cc00e05b6be41e78d8385f64ccb5e15</td>\n",
       "      <td>118000.0</td>\n",
       "      <td>2016-09-13</td>\n",
       "      <td>2016-09</td>\n",
       "      <td>2016</td>\n",
       "      <td>9</td>\n",
       "      <td>13</td>\n",
       "      <td>2016-09-13</td>\n",
       "    </tr>\n",
       "    <tr>\n",
       "      <th>7433</th>\n",
       "      <td>F</td>\n",
       "      <td>46</td>\n",
       "      <td>8f1d8f4875d04c83b826a9df90dedfe4</td>\n",
       "      <td>73000.0</td>\n",
       "      <td>2018-04-11</td>\n",
       "      <td>2018-04</td>\n",
       "      <td>2018</td>\n",
       "      <td>4</td>\n",
       "      <td>11</td>\n",
       "      <td>2018-04-11</td>\n",
       "    </tr>\n",
       "    <tr>\n",
       "      <th>1683</th>\n",
       "      <td>M</td>\n",
       "      <td>50</td>\n",
       "      <td>91a2e177e57a4a2287e02a4fc8efa6bb</td>\n",
       "      <td>62000.0</td>\n",
       "      <td>2018-06-27</td>\n",
       "      <td>2018-06</td>\n",
       "      <td>2018</td>\n",
       "      <td>6</td>\n",
       "      <td>27</td>\n",
       "      <td>2018-06-27</td>\n",
       "    </tr>\n",
       "  </tbody>\n",
       "</table>\n",
       "</div>"
      ],
      "text/plain": [
       "     gender  age                       customer_id    income membership_start  \\\n",
       "4233      F   25  93e6fefaf5ba4d1594d57f3120603819   45000.0       2017-06-06   \n",
       "4765      M   36  549dcda4abdb4803aa423e1d982a5f30   66000.0       2018-05-07   \n",
       "5497      F   60  0cc00e05b6be41e78d8385f64ccb5e15  118000.0       2016-09-13   \n",
       "7433      F   46  8f1d8f4875d04c83b826a9df90dedfe4   73000.0       2018-04-11   \n",
       "1683      M   50  91a2e177e57a4a2287e02a4fc8efa6bb   62000.0       2018-06-27   \n",
       "\n",
       "     membership_period  member_year  member_month  member_day member_date  \n",
       "4233           2017-06         2017             6           6  2017-06-06  \n",
       "4765           2018-05         2018             5           7  2018-05-07  \n",
       "5497           2016-09         2016             9          13  2016-09-13  \n",
       "7433           2018-04         2018             4          11  2018-04-11  \n",
       "1683           2018-06         2018             6          27  2018-06-27  "
      ]
     },
     "execution_count": 30,
     "metadata": {},
     "output_type": "execute_result"
    }
   ],
   "source": [
    "# show me the results\n",
    "profile_clean.sample(5)"
   ]
  },
  {
   "cell_type": "code",
   "execution_count": 31,
   "metadata": {},
   "outputs": [
    {
     "name": "stdout",
     "output_type": "stream",
     "text": [
      "<class 'pandas.core.frame.DataFrame'>\n",
      "Int64Index: 14825 entries, 1 to 16999\n",
      "Data columns (total 10 columns):\n",
      "gender               14825 non-null object\n",
      "age                  14825 non-null int64\n",
      "customer_id          14825 non-null object\n",
      "income               14825 non-null float64\n",
      "membership_start     14825 non-null datetime64[ns]\n",
      "membership_period    14825 non-null period[M]\n",
      "member_year          14825 non-null int64\n",
      "member_month         14825 non-null int64\n",
      "member_day           14825 non-null int64\n",
      "member_date          14825 non-null datetime64[ns]\n",
      "dtypes: datetime64[ns](2), float64(1), int64(4), object(2), period[M](1)\n",
      "memory usage: 1.2+ MB\n",
      "\n",
      "\n",
      "Series([], dtype: float64)\n",
      "\n",
      "\n",
      "no missing values\n",
      "{'member_year', 'gender', 'member_date', 'age', 'customer_id', 'membership_period', 'member_day', 'income', 'member_month', 'membership_start'}\n",
      "\n",
      "\n",
      "most missing values\n",
      "set()\n"
     ]
    }
   ],
   "source": [
    "summary(profile_clean)"
   ]
  },
  {
   "cell_type": "code",
   "execution_count": 32,
   "metadata": {},
   "outputs": [
    {
     "data": {
      "text/plain": [
       "count    14825.000000\n",
       "mean        54.393524\n",
       "std         17.383705\n",
       "min         18.000000\n",
       "25%         42.000000\n",
       "50%         55.000000\n",
       "75%         66.000000\n",
       "max        101.000000\n",
       "Name: age, dtype: float64"
      ]
     },
     "execution_count": 32,
     "metadata": {},
     "output_type": "execute_result"
    }
   ],
   "source": [
    "# check the cleaned profile data\n",
    "profile_clean.age.describe()"
   ]
  },
  {
   "cell_type": "code",
   "execution_count": 33,
   "metadata": {},
   "outputs": [
    {
     "data": {
      "text/plain": [
       "count     14825.000000\n",
       "mean      65404.991568\n",
       "std       21598.299410\n",
       "min       30000.000000\n",
       "25%       49000.000000\n",
       "50%       64000.000000\n",
       "75%       80000.000000\n",
       "max      120000.000000\n",
       "Name: income, dtype: float64"
      ]
     },
     "execution_count": 33,
     "metadata": {},
     "output_type": "execute_result"
    }
   ],
   "source": [
    "profile_clean.income.describe()"
   ]
  },
  {
   "cell_type": "code",
   "execution_count": 34,
   "metadata": {},
   "outputs": [
    {
     "data": {
      "text/plain": [
       "count     14825\n",
       "unique        3\n",
       "top           M\n",
       "freq       8484\n",
       "Name: gender, dtype: object"
      ]
     },
     "execution_count": 34,
     "metadata": {},
     "output_type": "execute_result"
    }
   ],
   "source": [
    "profile_clean.gender.describe()"
   ]
  },
  {
   "cell_type": "code",
   "execution_count": 35,
   "metadata": {},
   "outputs": [
    {
     "data": {
      "text/plain": [
       "M    57.227656\n",
       "F    41.342327\n",
       "O     1.430017\n",
       "Name: gender, dtype: float64"
      ]
     },
     "execution_count": 35,
     "metadata": {},
     "output_type": "execute_result"
    }
   ],
   "source": [
    "# calculate the proportions of genders and give me the percentage\n",
    "gender_perc = profile_clean['gender'].value_counts()\n",
    "gender_perc *= 100 / gender_perc.sum()\n",
    "gender_perc"
   ]
  },
  {
   "cell_type": "code",
   "execution_count": 36,
   "metadata": {},
   "outputs": [
    {
     "data": {
      "text/plain": [
       "2017    5599\n",
       "2018    3669\n",
       "2016    3024\n",
       "2015    1597\n",
       "2014     662\n",
       "2013     274\n",
       "Name: member_year, dtype: int64"
      ]
     },
     "execution_count": 36,
     "metadata": {},
     "output_type": "execute_result"
    }
   ],
   "source": [
    "# Let's look at what year a customer became a member of rewards\n",
    "# count per year\n",
    "profile_clean.member_year.value_counts()"
   ]
  },
  {
   "cell_type": "code",
   "execution_count": 37,
   "metadata": {},
   "outputs": [
    {
     "data": {
      "text/plain": [
       "2017    37.767285\n",
       "2018    24.748735\n",
       "2016    20.397976\n",
       "2015    10.772344\n",
       "2014     4.465430\n",
       "2013     1.848229\n",
       "Name: member_year, dtype: float64"
      ]
     },
     "execution_count": 37,
     "metadata": {},
     "output_type": "execute_result"
    }
   ],
   "source": [
    "# Let's look at what year a customer became a member of rewards\n",
    "# percentages per year\n",
    "start_year = profile_clean.member_year.value_counts()\n",
    "start_year *= 100 / start_year.sum()\n",
    "start_year"
   ]
  },
  {
   "cell_type": "code",
   "execution_count": 38,
   "metadata": {},
   "outputs": [
    {
     "data": {
      "image/png": "[encoded data removed]",
      "text/plain": [
       "<Figure size 864x288 with 1 Axes>"
      ]
     },
     "metadata": {
      "needs_background": "light"
     },
     "output_type": "display_data"
    }
   ],
   "source": [
    "# Now I would like to visualize the results in relation to the age\n",
    "profile_agegroup=profile_clean.groupby(pd.cut(profile_clean['age'], \n",
    "                                         np.arange(10, 105+5, 5)))['customer_id'].count()\n",
    "plt.figure(figsize=(12,4))\n",
    "plt.bar(np.arange(10, 105, 5),profile_agegroup,width=3.5, align='edge')\n",
    "plt.xticks(np.arange(10, 105, 5))\n",
    "plt.xlabel('Age')\n",
    "plt.ylabel('No Persons')\n",
    "plt.title('Number of People by Age')\n",
    "plt.savefig(\"./figure/number_of_people_by_age.jpg\")\n",
    "plt.show()"
   ]
  },
  {
   "cell_type": "code",
   "execution_count": 39,
   "metadata": {},
   "outputs": [],
   "source": [
    "# For income I need a group via age \n",
    "profile_age = profile_clean.copy()\n",
    "interval_range = pd.interval_range(start=0, freq=10, end=120)\n",
    "profile_age['agegroup'] = pd.cut(profile_age['age'], bins=interval_range, labels=[1,2,3])"
   ]
  },
  {
   "cell_type": "code",
   "execution_count": 40,
   "metadata": {},
   "outputs": [
    {
     "data": {
      "image/png": "[encoded data removed]",
      "text/plain": [
       "<Figure size 1152x504 with 2 Axes>"
      ]
     },
     "metadata": {
      "needs_background": "light"
     },
     "output_type": "display_data"
    }
   ],
   "source": [
    "# heatmap of income vs age group\n",
    "fig, ax = plt.subplots(figsize=(16,7));\n",
    "# fig, ax = plt.subplots(2, gridspec_kw=grid_kws);\n",
    "sns.set(font_scale=1.0)\n",
    "profile_heat = sns.heatmap(profile_age.groupby(['agegroup', 'gender']).income.mean().unstack(),\n",
    "                           cmap=\"Blues\", annot=True, fmt=\".0f\", ax=ax, linewidth = 0.7,\n",
    "                           cbar_kws={'label': 'Heatmap Income to Age Group vs Gender'});\n",
    "profile_heat.set_yticklabels(profile_heat.get_yticklabels(), rotation=0)\n",
    "fig = profile_heat.get_figure()\n",
    "fig.savefig(\"./figure/heatmap_income_vs_agegroup.jpg\", bbox_inches='tight')"
   ]
  },
  {
   "cell_type": "markdown",
   "metadata": {},
   "source": [
    "**Interim Results**\n",
    "\n",
    "There are 14825 profile data. I now know about customers that they have an average age of 54 years. The average income is 65,000.\n",
    "With 8484, male customers were most involved in the rating. However, it was surprising that women between 50 and 90 years of age had a significantly higher income than their male competitors. In the available data, there is also an income swing for 90 to 100 year olds. However, this seems rather unusual.\n",
    "In terms of timing, the business declined in 2018 with 3,669 entries, i.e. 24.75%. Most data was available in 2017 with 5599 entries, or 37.77%."
   ]
  },
  {
   "cell_type": "markdown",
   "metadata": {},
   "source": [
    "<a id='cleantranscript'></a>\n",
    "### 6.3 Cleaning Data Frame Transcript\n",
    " "
   ]
  },
  {
   "cell_type": "code",
   "execution_count": 41,
   "metadata": {},
   "outputs": [],
   "source": [
    "# lets clean data frame transcript\n",
    "\n",
    "def clean_df_transcript(df):\n",
    "    \"\"\"\n",
    "    Return cleaned datasets with all string variables for value, time and renamed customer_id.\n",
    "    \n",
    "    INPUTS:\n",
    "        df - dataframe for transcript\n",
    "    OUTPUTS:\n",
    "        df_clean - cleaned dataframe for transcript\n",
    "    \"\"\"\n",
    "    # copy for the results ...\n",
    "    df_clean = df.copy()\n",
    "\n",
    "    # splitting the value column\n",
    "    # First value is the value_type\n",
    "    df_clean['record'] = df_clean.value.apply(lambda x: list(x.keys())[0])\n",
    "    df_clean['record_value'] = df_clean.value.apply(lambda x: list(x.values())[0])\n",
    "        \n",
    "    df_clean.drop(['value'], axis=1, inplace=True) \n",
    "    \n",
    "    # Make sure that the time value is an integer amount\n",
    "    df_clean['time'] = df_clean['time'].apply(lambda x: int(x))\n",
    "    \n",
    "    # Convert from hours to days\n",
    "    df_clean['time'] /= 24.0\n",
    "        \n",
    "    # renaming the person and time columns for the transcript data\n",
    "    df_clean.rename(columns={'person': 'customer_id'}, inplace=True)\n",
    "    \n",
    "    return df_clean"
   ]
  },
  {
   "cell_type": "code",
   "execution_count": 42,
   "metadata": {},
   "outputs": [],
   "source": [
    "# clean the dataframes transcripts\n",
    "transcript_clean = clean_df_transcript(transcript)"
   ]
  },
  {
   "cell_type": "code",
   "execution_count": 43,
   "metadata": {},
   "outputs": [],
   "source": [
    "# the cleaning process is not finished ... the unusual customer must also droped in transcript\n",
    "transcript_clean = transcript_clean[~transcript_clean.customer_id.isin(customer_to_drop.id)]"
   ]
  },
  {
   "cell_type": "code",
   "execution_count": 44,
   "metadata": {},
   "outputs": [
    {
     "data": {
      "text/html": [
       "<div>\n",
       "<style scoped>\n",
       "    .dataframe tbody tr th:only-of-type {\n",
       "        vertical-align: middle;\n",
       "    }\n",
       "\n",
       "    .dataframe tbody tr th {\n",
       "        vertical-align: top;\n",
       "    }\n",
       "\n",
       "    .dataframe thead th {\n",
       "        text-align: right;\n",
       "    }\n",
       "</style>\n",
       "<table border=\"1\" class=\"dataframe\">\n",
       "  <thead>\n",
       "    <tr style=\"text-align: right;\">\n",
       "      <th></th>\n",
       "      <th>customer_id</th>\n",
       "      <th>event</th>\n",
       "      <th>time</th>\n",
       "      <th>record</th>\n",
       "      <th>record_value</th>\n",
       "    </tr>\n",
       "  </thead>\n",
       "  <tbody>\n",
       "    <tr>\n",
       "      <th>250884</th>\n",
       "      <td>a6d2bc2a28094a07a5c273dc542cefdc</td>\n",
       "      <td>offer received</td>\n",
       "      <td>24.00</td>\n",
       "      <td>offer id</td>\n",
       "      <td>0b1e1539f2cc45b7b9fa7c272da2e1d7</td>\n",
       "    </tr>\n",
       "    <tr>\n",
       "      <th>151171</th>\n",
       "      <td>355ab404fc63416cbb0692b7ab9d51b6</td>\n",
       "      <td>offer received</td>\n",
       "      <td>17.00</td>\n",
       "      <td>offer id</td>\n",
       "      <td>fafdcd668e3743c1bb461111dcafc2a4</td>\n",
       "    </tr>\n",
       "    <tr>\n",
       "      <th>172124</th>\n",
       "      <td>be85e0f528c24ae9acae162d6a2bc832</td>\n",
       "      <td>offer viewed</td>\n",
       "      <td>17.50</td>\n",
       "      <td>offer id</td>\n",
       "      <td>ae264e3637204a6fb9bb56bc8210ddfd</td>\n",
       "    </tr>\n",
       "    <tr>\n",
       "      <th>279822</th>\n",
       "      <td>292fc9b98199494cb55c027f5bfac8aa</td>\n",
       "      <td>offer viewed</td>\n",
       "      <td>25.75</td>\n",
       "      <td>offer id</td>\n",
       "      <td>2906b810c7d4411798c6938adc9daaa5</td>\n",
       "    </tr>\n",
       "    <tr>\n",
       "      <th>285336</th>\n",
       "      <td>47abadbd4d4c42e2b38f71808f9c6cf3</td>\n",
       "      <td>transaction</td>\n",
       "      <td>26.25</td>\n",
       "      <td>amount</td>\n",
       "      <td>15.63</td>\n",
       "    </tr>\n",
       "  </tbody>\n",
       "</table>\n",
       "</div>"
      ],
      "text/plain": [
       "                             customer_id           event   time    record  \\\n",
       "250884  a6d2bc2a28094a07a5c273dc542cefdc  offer received  24.00  offer id   \n",
       "151171  355ab404fc63416cbb0692b7ab9d51b6  offer received  17.00  offer id   \n",
       "172124  be85e0f528c24ae9acae162d6a2bc832    offer viewed  17.50  offer id   \n",
       "279822  292fc9b98199494cb55c027f5bfac8aa    offer viewed  25.75  offer id   \n",
       "285336  47abadbd4d4c42e2b38f71808f9c6cf3     transaction  26.25    amount   \n",
       "\n",
       "                            record_value  \n",
       "250884  0b1e1539f2cc45b7b9fa7c272da2e1d7  \n",
       "151171  fafdcd668e3743c1bb461111dcafc2a4  \n",
       "172124  ae264e3637204a6fb9bb56bc8210ddfd  \n",
       "279822  2906b810c7d4411798c6938adc9daaa5  \n",
       "285336                             15.63  "
      ]
     },
     "execution_count": 44,
     "metadata": {},
     "output_type": "execute_result"
    }
   ],
   "source": [
    "# show me the results\n",
    "transcript_clean.sample(5)"
   ]
  },
  {
   "cell_type": "code",
   "execution_count": 45,
   "metadata": {},
   "outputs": [
    {
     "name": "stdout",
     "output_type": "stream",
     "text": [
      "<class 'pandas.core.frame.DataFrame'>\n",
      "Int64Index: 272762 entries, 0 to 306532\n",
      "Data columns (total 5 columns):\n",
      "customer_id     272762 non-null object\n",
      "event           272762 non-null object\n",
      "time            272762 non-null float64\n",
      "record          272762 non-null object\n",
      "record_value    272762 non-null object\n",
      "dtypes: float64(1), object(4)\n",
      "memory usage: 12.5+ MB\n",
      "\n",
      "\n",
      "Series([], dtype: float64)\n",
      "\n",
      "\n",
      "no missing values\n",
      "{'record_value', 'time', 'record', 'customer_id', 'event'}\n",
      "\n",
      "\n",
      "most missing values\n",
      "set()\n"
     ]
    }
   ],
   "source": [
    "summary(transcript_clean)"
   ]
  },
  {
   "cell_type": "code",
   "execution_count": 46,
   "metadata": {},
   "outputs": [
    {
     "data": {
      "text/plain": [
       "transaction        123957\n",
       "offer received      66501\n",
       "offer viewed        49860\n",
       "offer completed     32444\n",
       "Name: event, dtype: int64"
      ]
     },
     "execution_count": 46,
     "metadata": {},
     "output_type": "execute_result"
    }
   ],
   "source": [
    "# Give me the number of transcripts by event\n",
    "transcript_clean.event.value_counts()"
   ]
  },
  {
   "cell_type": "code",
   "execution_count": 47,
   "metadata": {},
   "outputs": [
    {
     "data": {
      "text/plain": [
       "transaction        0.454451\n",
       "offer received     0.243806\n",
       "offer viewed       0.182797\n",
       "offer completed    0.118946\n",
       "Name: event, dtype: float64"
      ]
     },
     "execution_count": 47,
     "metadata": {},
     "output_type": "execute_result"
    }
   ],
   "source": [
    "# now show the percentage by event\n",
    "transcript_clean['event'].value_counts(normalize = True)"
   ]
  },
  {
   "cell_type": "markdown",
   "metadata": {},
   "source": [
    "**Interims result**\n",
    "\n",
    "In the transcript data, the customers carried out a total of 123,957 transactions. Only 32,444 actually accepted an offer here."
   ]
  },
  {
   "cell_type": "markdown",
   "metadata": {},
   "source": [
    "<a id='engineer'></a>\n",
    "### 6.4 Feature Engineering\n"
   ]
  },
  {
   "cell_type": "markdown",
   "metadata": {},
   "source": [
    "#### Get the Offer and Transaction to the Transcripts\n",
    "\n",
    "Divide the transcript data into offers and transactions. Take into account the amount, time and offer types."
   ]
  },
  {
   "cell_type": "code",
   "execution_count": 48,
   "metadata": {},
   "outputs": [],
   "source": [
    "# Explaine now what is the most common promotion\n",
    "def get_offer(df):\n",
    "    \"\"\"\n",
    "    get the data frame offer and add to data frame transcript\n",
    "    \n",
    "    INPUTS:\n",
    "        df - dataframe for transcript\n",
    "    OUTPUTS:\n",
    "        df_merge - merged dataframe offer to transcript\n",
    "    \"\"\"\n",
    "    # copy for the results ...\n",
    "    df_clean = transcript_clean.copy()\n",
    "    \n",
    "    # Remove customer id's that are not in the customer profile DataFrame\n",
    "    select_data = df_clean['customer_id'].isin(profile_clean['customer_id'])\n",
    "    df_clean = df_clean[select_data]\n",
    "\n",
    "    # prepare data \n",
    "    df_clean.drop_duplicates(inplace=True)\n",
    "    \n",
    "    # Select customer offers and split it\n",
    "    pattern_obj = re.compile('^offer (?:received|viewed|completed)')\n",
    "    tmp_offer = lambda elem: pattern_obj.match(elem) != None\n",
    "    is_offer = df_clean['event'].apply(tmp_offer)\n",
    "\n",
    "    # give the results in a new data frame\n",
    "    offer_data = df_clean[is_offer].copy()\n",
    "    offer_data = offer_data.reset_index(drop=True)\n",
    "    \n",
    "    # renaming the id column for the profile data\n",
    "    offer_data.rename(columns={'record_value': 'offer_id'}, inplace=True)\n",
    "    \n",
    "    # Initialize a list that describes the desired output DataFrame\n",
    "    # column ordering\n",
    "    column_order = ['customer_id', 'offer_id', 'time']\n",
    "\n",
    "    # Transform a column that describes a customer offer event\n",
    "    pattern_obj = re.compile('^offer ([a-z]+$)')\n",
    "\n",
    "    tmp_split = lambda elem: pattern_obj.match(elem).groups(1)[0]\n",
    "\n",
    "    offer_data['event'] = offer_data['event'].apply(tmp_split)\n",
    "    \n",
    "    # One hot encode customer offer events\n",
    "    event_df = pd.get_dummies(offer_data['event'])\n",
    "    column_order.extend(event_df.columns.values)\n",
    "\n",
    "    # Create a DataFrame that describes customer offer events\n",
    "    offer_data = pd.concat([offer_data, event_df], axis=1)\n",
    "    offer_data.drop(columns=['event'])\n",
    "    offer_data = offer_data[column_order]\n",
    "\n",
    "    # Select customer transaction events\n",
    "    transaction = df_clean[is_offer == False]\n",
    "    transaction = transaction.reset_index(drop=True)\n",
    "\n",
    "    # Transform customer transaction event values\n",
    "    transaction['amount'] = transaction['record_value'].astype(float)\n",
    "    \n",
    "    # Create a DataFrame that describes customer transactions\n",
    "    transaction = transaction.drop(columns=['event', 'record_value', 'record'])\n",
    "    column_order = ['customer_id', 'amount', 'time']\n",
    "    transaction = transaction[column_order]\n",
    "\n",
    "    \n",
    "    return offer_data, transaction"
   ]
  },
  {
   "cell_type": "code",
   "execution_count": 49,
   "metadata": {},
   "outputs": [],
   "source": [
    "# Split the transcript into offer_data and transaction\n",
    "offer_data, transaction = get_offer(transcript_clean)"
   ]
  },
  {
   "cell_type": "code",
   "execution_count": 50,
   "metadata": {},
   "outputs": [
    {
     "name": "stdout",
     "output_type": "stream",
     "text": [
      "<class 'pandas.core.frame.DataFrame'>\n",
      "RangeIndex: 148431 entries, 0 to 148430\n",
      "Data columns (total 6 columns):\n",
      "customer_id    148431 non-null object\n",
      "offer_id       148431 non-null object\n",
      "time           148431 non-null float64\n",
      "completed      148431 non-null uint8\n",
      "received       148431 non-null uint8\n",
      "viewed         148431 non-null uint8\n",
      "dtypes: float64(1), object(2), uint8(3)\n",
      "memory usage: 3.8+ MB\n",
      "\n",
      "\n",
      "Series([], dtype: float64)\n",
      "\n",
      "\n",
      "no missing values\n",
      "{'time', 'completed', 'customer_id', 'viewed', 'received', 'offer_id'}\n",
      "\n",
      "\n",
      "most missing values\n",
      "set()\n"
     ]
    },
    {
     "data": {
      "text/html": [
       "<div>\n",
       "<style scoped>\n",
       "    .dataframe tbody tr th:only-of-type {\n",
       "        vertical-align: middle;\n",
       "    }\n",
       "\n",
       "    .dataframe tbody tr th {\n",
       "        vertical-align: top;\n",
       "    }\n",
       "\n",
       "    .dataframe thead th {\n",
       "        text-align: right;\n",
       "    }\n",
       "</style>\n",
       "<table border=\"1\" class=\"dataframe\">\n",
       "  <thead>\n",
       "    <tr style=\"text-align: right;\">\n",
       "      <th></th>\n",
       "      <th>customer_id</th>\n",
       "      <th>offer_id</th>\n",
       "      <th>time</th>\n",
       "      <th>completed</th>\n",
       "      <th>received</th>\n",
       "      <th>viewed</th>\n",
       "    </tr>\n",
       "  </thead>\n",
       "  <tbody>\n",
       "    <tr>\n",
       "      <th>27533</th>\n",
       "      <td>ea56b54dccb24b54b29abc2660b28316</td>\n",
       "      <td>f19421c1d4aa40978ebb69ca19b0e20d</td>\n",
       "      <td>7.0</td>\n",
       "      <td>0</td>\n",
       "      <td>1</td>\n",
       "      <td>0</td>\n",
       "    </tr>\n",
       "    <tr>\n",
       "      <th>28734</th>\n",
       "      <td>03f75ac6db7a457dbd6086e6b86a4fd1</td>\n",
       "      <td>0b1e1539f2cc45b7b9fa7c272da2e1d7</td>\n",
       "      <td>7.0</td>\n",
       "      <td>0</td>\n",
       "      <td>1</td>\n",
       "      <td>0</td>\n",
       "    </tr>\n",
       "    <tr>\n",
       "      <th>103121</th>\n",
       "      <td>ee756ebaea92411cb3c34a88293f0a5f</td>\n",
       "      <td>4d5c57ea9a6940dd891ad53e9dbe8da0</td>\n",
       "      <td>21.0</td>\n",
       "      <td>0</td>\n",
       "      <td>1</td>\n",
       "      <td>0</td>\n",
       "    </tr>\n",
       "    <tr>\n",
       "      <th>67634</th>\n",
       "      <td>f129b6b8c71e482b8b273b14d06ffe26</td>\n",
       "      <td>4d5c57ea9a6940dd891ad53e9dbe8da0</td>\n",
       "      <td>15.0</td>\n",
       "      <td>0</td>\n",
       "      <td>0</td>\n",
       "      <td>1</td>\n",
       "    </tr>\n",
       "    <tr>\n",
       "      <th>44645</th>\n",
       "      <td>7d382450e3b241748bbe665661bc4273</td>\n",
       "      <td>9b98b8c7a33c4b65b9aebfe6a799e6d9</td>\n",
       "      <td>9.0</td>\n",
       "      <td>0</td>\n",
       "      <td>0</td>\n",
       "      <td>1</td>\n",
       "    </tr>\n",
       "  </tbody>\n",
       "</table>\n",
       "</div>"
      ],
      "text/plain": [
       "                             customer_id                          offer_id  \\\n",
       "27533   ea56b54dccb24b54b29abc2660b28316  f19421c1d4aa40978ebb69ca19b0e20d   \n",
       "28734   03f75ac6db7a457dbd6086e6b86a4fd1  0b1e1539f2cc45b7b9fa7c272da2e1d7   \n",
       "103121  ee756ebaea92411cb3c34a88293f0a5f  4d5c57ea9a6940dd891ad53e9dbe8da0   \n",
       "67634   f129b6b8c71e482b8b273b14d06ffe26  4d5c57ea9a6940dd891ad53e9dbe8da0   \n",
       "44645   7d382450e3b241748bbe665661bc4273  9b98b8c7a33c4b65b9aebfe6a799e6d9   \n",
       "\n",
       "        time  completed  received  viewed  \n",
       "27533    7.0          0         1       0  \n",
       "28734    7.0          0         1       0  \n",
       "103121  21.0          0         1       0  \n",
       "67634   15.0          0         0       1  \n",
       "44645    9.0          0         0       1  "
      ]
     },
     "execution_count": 50,
     "metadata": {},
     "output_type": "execute_result"
    }
   ],
   "source": [
    "# Show me the results to offer data\n",
    "summary(offer_data)\n",
    "offer_data.sample(5)"
   ]
  },
  {
   "cell_type": "code",
   "execution_count": 51,
   "metadata": {},
   "outputs": [
    {
     "name": "stdout",
     "output_type": "stream",
     "text": [
      "<class 'pandas.core.frame.DataFrame'>\n",
      "RangeIndex: 123957 entries, 0 to 123956\n",
      "Data columns (total 3 columns):\n",
      "customer_id    123957 non-null object\n",
      "amount         123957 non-null float64\n",
      "time           123957 non-null float64\n",
      "dtypes: float64(2), object(1)\n",
      "memory usage: 2.8+ MB\n",
      "\n",
      "\n",
      "Series([], dtype: float64)\n",
      "\n",
      "\n",
      "no missing values\n",
      "{'customer_id', 'amount', 'time'}\n",
      "\n",
      "\n",
      "most missing values\n",
      "set()\n"
     ]
    },
    {
     "data": {
      "text/html": [
       "<div>\n",
       "<style scoped>\n",
       "    .dataframe tbody tr th:only-of-type {\n",
       "        vertical-align: middle;\n",
       "    }\n",
       "\n",
       "    .dataframe tbody tr th {\n",
       "        vertical-align: top;\n",
       "    }\n",
       "\n",
       "    .dataframe thead th {\n",
       "        text-align: right;\n",
       "    }\n",
       "</style>\n",
       "<table border=\"1\" class=\"dataframe\">\n",
       "  <thead>\n",
       "    <tr style=\"text-align: right;\">\n",
       "      <th></th>\n",
       "      <th>customer_id</th>\n",
       "      <th>amount</th>\n",
       "      <th>time</th>\n",
       "    </tr>\n",
       "  </thead>\n",
       "  <tbody>\n",
       "    <tr>\n",
       "      <th>87714</th>\n",
       "      <td>24d448bb96b64b958edd6ba2f4f767c5</td>\n",
       "      <td>4.62</td>\n",
       "      <td>22.00</td>\n",
       "    </tr>\n",
       "    <tr>\n",
       "      <th>98819</th>\n",
       "      <td>dde6811f1d3b438187f179963abcac98</td>\n",
       "      <td>22.57</td>\n",
       "      <td>24.25</td>\n",
       "    </tr>\n",
       "    <tr>\n",
       "      <th>116776</th>\n",
       "      <td>c770251c32b84d59a17a8e591f9e0418</td>\n",
       "      <td>18.61</td>\n",
       "      <td>28.00</td>\n",
       "    </tr>\n",
       "    <tr>\n",
       "      <th>95638</th>\n",
       "      <td>65e2bf7869e64803ba1b1cb0ccb3c783</td>\n",
       "      <td>18.74</td>\n",
       "      <td>23.75</td>\n",
       "    </tr>\n",
       "    <tr>\n",
       "      <th>55870</th>\n",
       "      <td>0bfc794e24c146ceb5c899579e77b940</td>\n",
       "      <td>26.20</td>\n",
       "      <td>15.50</td>\n",
       "    </tr>\n",
       "  </tbody>\n",
       "</table>\n",
       "</div>"
      ],
      "text/plain": [
       "                             customer_id  amount   time\n",
       "87714   24d448bb96b64b958edd6ba2f4f767c5    4.62  22.00\n",
       "98819   dde6811f1d3b438187f179963abcac98   22.57  24.25\n",
       "116776  c770251c32b84d59a17a8e591f9e0418   18.61  28.00\n",
       "95638   65e2bf7869e64803ba1b1cb0ccb3c783   18.74  23.75\n",
       "55870   0bfc794e24c146ceb5c899579e77b940   26.20  15.50"
      ]
     },
     "execution_count": 51,
     "metadata": {},
     "output_type": "execute_result"
    }
   ],
   "source": [
    "# Show me the results to transaction data\n",
    "summary(transaction)\n",
    "transaction.sample(5)"
   ]
  },
  {
   "cell_type": "markdown",
   "metadata": {},
   "source": [
    "#### Merge the Offer Data with the Portfolio Data\n",
    "\n",
    "For the analyze gender vs. offer type and other information the new offer data must merge \n",
    "with the portfolio data."
   ]
  },
  {
   "cell_type": "code",
   "execution_count": 52,
   "metadata": {},
   "outputs": [],
   "source": [
    "# merging all three datasets to have a complete, clean dataset \n",
    "\n",
    "df_offer = pd.merge(offer_data, portfolio_clean, how='left', left_on='offer_id', \n",
    "                         right_on='offer_id')        "
   ]
  },
  {
   "cell_type": "code",
   "execution_count": 53,
   "metadata": {},
   "outputs": [],
   "source": [
    "df_offer = pd.merge(df_offer, profile_clean, how='left', left_on='customer_id', \n",
    "                         right_on='customer_id')  "
   ]
  },
  {
   "cell_type": "code",
   "execution_count": 54,
   "metadata": {},
   "outputs": [
    {
     "data": {
      "text/html": [
       "<div>\n",
       "<style scoped>\n",
       "    .dataframe tbody tr th:only-of-type {\n",
       "        vertical-align: middle;\n",
       "    }\n",
       "\n",
       "    .dataframe tbody tr th {\n",
       "        vertical-align: top;\n",
       "    }\n",
       "\n",
       "    .dataframe thead th {\n",
       "        text-align: right;\n",
       "    }\n",
       "</style>\n",
       "<table border=\"1\" class=\"dataframe\">\n",
       "  <thead>\n",
       "    <tr style=\"text-align: right;\">\n",
       "      <th></th>\n",
       "      <th>customer_id</th>\n",
       "      <th>offer_id</th>\n",
       "      <th>time</th>\n",
       "      <th>completed</th>\n",
       "      <th>received</th>\n",
       "      <th>viewed</th>\n",
       "      <th>reward</th>\n",
       "      <th>difficulty</th>\n",
       "      <th>duration</th>\n",
       "      <th>offer_type</th>\n",
       "      <th>...</th>\n",
       "      <th>informational</th>\n",
       "      <th>gender</th>\n",
       "      <th>age</th>\n",
       "      <th>income</th>\n",
       "      <th>membership_start</th>\n",
       "      <th>membership_period</th>\n",
       "      <th>member_year</th>\n",
       "      <th>member_month</th>\n",
       "      <th>member_day</th>\n",
       "      <th>member_date</th>\n",
       "    </tr>\n",
       "  </thead>\n",
       "  <tbody>\n",
       "    <tr>\n",
       "      <th>109946</th>\n",
       "      <td>b39221039ef04377844775f6b116b40d</td>\n",
       "      <td>f19421c1d4aa40978ebb69ca19b0e20d</td>\n",
       "      <td>21.00</td>\n",
       "      <td>1</td>\n",
       "      <td>0</td>\n",
       "      <td>0</td>\n",
       "      <td>5</td>\n",
       "      <td>5</td>\n",
       "      <td>120</td>\n",
       "      <td>bogo</td>\n",
       "      <td>...</td>\n",
       "      <td>0</td>\n",
       "      <td>M</td>\n",
       "      <td>53</td>\n",
       "      <td>97000.0</td>\n",
       "      <td>2016-01-08</td>\n",
       "      <td>2016-01</td>\n",
       "      <td>2016</td>\n",
       "      <td>1</td>\n",
       "      <td>8</td>\n",
       "      <td>2016-01-08</td>\n",
       "    </tr>\n",
       "    <tr>\n",
       "      <th>85681</th>\n",
       "      <td>87deb7387c0f4ef7bbf8239665a23e1b</td>\n",
       "      <td>fafdcd668e3743c1bb461111dcafc2a4</td>\n",
       "      <td>17.25</td>\n",
       "      <td>1</td>\n",
       "      <td>0</td>\n",
       "      <td>0</td>\n",
       "      <td>2</td>\n",
       "      <td>10</td>\n",
       "      <td>240</td>\n",
       "      <td>discount</td>\n",
       "      <td>...</td>\n",
       "      <td>0</td>\n",
       "      <td>F</td>\n",
       "      <td>35</td>\n",
       "      <td>33000.0</td>\n",
       "      <td>2015-10-29</td>\n",
       "      <td>2015-10</td>\n",
       "      <td>2015</td>\n",
       "      <td>10</td>\n",
       "      <td>29</td>\n",
       "      <td>2015-10-29</td>\n",
       "    </tr>\n",
       "    <tr>\n",
       "      <th>122850</th>\n",
       "      <td>840cc4f0ccbb4ba7af0c511ec023ee85</td>\n",
       "      <td>fafdcd668e3743c1bb461111dcafc2a4</td>\n",
       "      <td>24.00</td>\n",
       "      <td>0</td>\n",
       "      <td>1</td>\n",
       "      <td>0</td>\n",
       "      <td>2</td>\n",
       "      <td>10</td>\n",
       "      <td>240</td>\n",
       "      <td>discount</td>\n",
       "      <td>...</td>\n",
       "      <td>0</td>\n",
       "      <td>M</td>\n",
       "      <td>55</td>\n",
       "      <td>41000.0</td>\n",
       "      <td>2016-11-30</td>\n",
       "      <td>2016-11</td>\n",
       "      <td>2016</td>\n",
       "      <td>11</td>\n",
       "      <td>30</td>\n",
       "      <td>2016-11-30</td>\n",
       "    </tr>\n",
       "    <tr>\n",
       "      <th>127154</th>\n",
       "      <td>d72ef64c48ad45f180f0470b3938b974</td>\n",
       "      <td>fafdcd668e3743c1bb461111dcafc2a4</td>\n",
       "      <td>24.00</td>\n",
       "      <td>0</td>\n",
       "      <td>1</td>\n",
       "      <td>0</td>\n",
       "      <td>2</td>\n",
       "      <td>10</td>\n",
       "      <td>240</td>\n",
       "      <td>discount</td>\n",
       "      <td>...</td>\n",
       "      <td>0</td>\n",
       "      <td>M</td>\n",
       "      <td>46</td>\n",
       "      <td>72000.0</td>\n",
       "      <td>2013-09-17</td>\n",
       "      <td>2013-09</td>\n",
       "      <td>2013</td>\n",
       "      <td>9</td>\n",
       "      <td>17</td>\n",
       "      <td>2013-09-17</td>\n",
       "    </tr>\n",
       "    <tr>\n",
       "      <th>97133</th>\n",
       "      <td>f03fb4cc7caf44bbbe6b93a26eda48d3</td>\n",
       "      <td>ae264e3637204a6fb9bb56bc8210ddfd</td>\n",
       "      <td>20.75</td>\n",
       "      <td>1</td>\n",
       "      <td>0</td>\n",
       "      <td>0</td>\n",
       "      <td>10</td>\n",
       "      <td>10</td>\n",
       "      <td>168</td>\n",
       "      <td>bogo</td>\n",
       "      <td>...</td>\n",
       "      <td>0</td>\n",
       "      <td>F</td>\n",
       "      <td>79</td>\n",
       "      <td>47000.0</td>\n",
       "      <td>2016-11-24</td>\n",
       "      <td>2016-11</td>\n",
       "      <td>2016</td>\n",
       "      <td>11</td>\n",
       "      <td>24</td>\n",
       "      <td>2016-11-24</td>\n",
       "    </tr>\n",
       "  </tbody>\n",
       "</table>\n",
       "<p>5 rows × 26 columns</p>\n",
       "</div>"
      ],
      "text/plain": [
       "                             customer_id                          offer_id  \\\n",
       "109946  b39221039ef04377844775f6b116b40d  f19421c1d4aa40978ebb69ca19b0e20d   \n",
       "85681   87deb7387c0f4ef7bbf8239665a23e1b  fafdcd668e3743c1bb461111dcafc2a4   \n",
       "122850  840cc4f0ccbb4ba7af0c511ec023ee85  fafdcd668e3743c1bb461111dcafc2a4   \n",
       "127154  d72ef64c48ad45f180f0470b3938b974  fafdcd668e3743c1bb461111dcafc2a4   \n",
       "97133   f03fb4cc7caf44bbbe6b93a26eda48d3  ae264e3637204a6fb9bb56bc8210ddfd   \n",
       "\n",
       "         time  completed  received  viewed  reward  difficulty  duration  \\\n",
       "109946  21.00          1         0       0       5           5       120   \n",
       "85681   17.25          1         0       0       2          10       240   \n",
       "122850  24.00          0         1       0       2          10       240   \n",
       "127154  24.00          0         1       0       2          10       240   \n",
       "97133   20.75          1         0       0      10          10       168   \n",
       "\n",
       "       offer_type  ...  informational  gender  age   income  membership_start  \\\n",
       "109946       bogo  ...              0       M   53  97000.0        2016-01-08   \n",
       "85681    discount  ...              0       F   35  33000.0        2015-10-29   \n",
       "122850   discount  ...              0       M   55  41000.0        2016-11-30   \n",
       "127154   discount  ...              0       M   46  72000.0        2013-09-17   \n",
       "97133        bogo  ...              0       F   79  47000.0        2016-11-24   \n",
       "\n",
       "        membership_period  member_year member_month  member_day  member_date  \n",
       "109946            2016-01         2016            1           8   2016-01-08  \n",
       "85681             2015-10         2015           10          29   2015-10-29  \n",
       "122850            2016-11         2016           11          30   2016-11-30  \n",
       "127154            2013-09         2013            9          17   2013-09-17  \n",
       "97133             2016-11         2016           11          24   2016-11-24  \n",
       "\n",
       "[5 rows x 26 columns]"
      ]
     },
     "execution_count": 54,
     "metadata": {},
     "output_type": "execute_result"
    }
   ],
   "source": [
    "df_offer.sample(5)"
   ]
  },
  {
   "cell_type": "markdown",
   "metadata": {},
   "source": [
    "### Customer Behavior Analysis"
   ]
  },
  {
   "cell_type": "markdown",
   "metadata": {},
   "source": [
    "Based on offer information I make analysis based on the offer information, e.g. offer type, channel, etc."
   ]
  },
  {
   "cell_type": "code",
   "execution_count": 55,
   "metadata": {},
   "outputs": [
    {
     "data": {
      "text/plain": [
       "bogo             63676\n",
       "discount         62095\n",
       "informational    22660\n",
       "Name: offer_type, dtype: int64"
      ]
     },
     "execution_count": 55,
     "metadata": {},
     "output_type": "execute_result"
    }
   ],
   "source": [
    "# Give me the number of offer types\n",
    "df_offer.offer_type.value_counts()"
   ]
  },
  {
   "cell_type": "code",
   "execution_count": 56,
   "metadata": {},
   "outputs": [
    {
     "name": "stdout",
     "output_type": "stream",
     "text": [
      "Total offer type received  66501\n",
      "Total offer type completed  32070\n",
      "Total offer type viewed  49860\n",
      "Offer type complete rate  0.4822483872422971 %\n"
     ]
    }
   ],
   "source": [
    "# more statistic about offer types overview\n",
    "complete_perc=df_offer.completed.sum() / df_offer.received.sum()\n",
    "print('Total offer type received ', df_offer.received.sum())\n",
    "print('Total offer type completed ', df_offer.completed.sum())\n",
    "print('Total offer type viewed ', df_offer.viewed.sum())\n",
    "print('Offer type complete rate ', complete_perc, '%')"
   ]
  },
  {
   "cell_type": "code",
   "execution_count": 57,
   "metadata": {},
   "outputs": [
    {
     "name": "stdout",
     "output_type": "stream",
     "text": [
      "Informational offer type received  13300\n",
      "Informational offer type viewed  9360\n",
      "Informational offer type viewed rate  0.7037593984962406 %\n"
     ]
    }
   ],
   "source": [
    "# more statistic about offer types discounted \n",
    "# result_total=df_offer.offer_type[offer_type=='informational'].value_counts()\n",
    "result_perc=df_offer.viewed[df_offer.offer_type=='informational'].sum() /\\\n",
    "        df_offer.received[df_offer.offer_type=='informational'].sum()\n",
    "# print('Informational offer type ', result_total)\n",
    "print('Informational offer type received ', df_offer.received[df_offer.offer_type=='informational'].sum())\n",
    "print('Informational offer type viewed ', df_offer.viewed[df_offer.offer_type=='informational'].sum())\n",
    "print('Informational offer type viewed rate ', result_perc, '%')"
   ]
  },
  {
   "cell_type": "code",
   "execution_count": 58,
   "metadata": {},
   "outputs": [
    {
     "name": "stdout",
     "output_type": "stream",
     "text": [
      "Bogo offer type received  26537\n",
      "Bogo offer type completed  15100\n",
      "Bogo offer type complete rate  0.5690168444059238 %\n",
      "Bogo offer type viewed  22039\n",
      "Bogo offer type viewed rate  0.6851490539498163 %\n"
     ]
    }
   ],
   "source": [
    "# more statistic about offer types bogo \n",
    "result_perc=df_offer.completed[df_offer.offer_type=='bogo'].sum() /\\\n",
    "        df_offer.received[df_offer.offer_type=='bogo'].sum()\n",
    "result_viewed_perc=df_offer.completed[df_offer.offer_type=='bogo'].sum() /\\\n",
    "        df_offer.viewed[df_offer.offer_type=='bogo'].sum()\n",
    "print('Bogo offer type received ', df_offer.received[df_offer.offer_type=='bogo'].sum())\n",
    "print('Bogo offer type completed ', df_offer.completed[df_offer.offer_type=='bogo'].sum())\n",
    "print('Bogo offer type complete rate ', result_perc, '%')\n",
    "print('Bogo offer type viewed ', df_offer.viewed[df_offer.offer_type=='bogo'].sum())\n",
    "print('Bogo offer type viewed rate ', result_viewed_perc, '%')"
   ]
  },
  {
   "cell_type": "code",
   "execution_count": 59,
   "metadata": {},
   "outputs": [
    {
     "name": "stdout",
     "output_type": "stream",
     "text": [
      "Discount offer type received  26664\n",
      "Discount offer type completed  16970\n",
      "Discount offer type complete rate  0.6364386438643864 %\n",
      "Discount offer type viewed  18461\n",
      "Discount offer type viewed rate  0.9192351443583772 %\n"
     ]
    }
   ],
   "source": [
    "# more statistic about offer types discounted \n",
    "result_perc=df_offer.completed[df_offer.offer_type=='discount'].sum() /\\\n",
    "        df_offer.received[df_offer.offer_type=='discount'].sum()\n",
    "result_viewed_perc=df_offer.completed[df_offer.offer_type=='discount'].sum() /\\\n",
    "        df_offer.viewed[df_offer.offer_type=='discount'].sum()\n",
    "print('Discount offer type received ', df_offer.received[df_offer.offer_type=='discount'].sum())\n",
    "print('Discount offer type completed ', df_offer.completed[df_offer.offer_type=='discount'].sum())\n",
    "print('Discount offer type complete rate ', result_perc, '%')\n",
    "print('Discount offer type viewed ', df_offer.viewed[df_offer.offer_type=='discount'].sum())\n",
    "print('Discount offer type viewed rate ', result_viewed_perc, '%')"
   ]
  },
  {
   "cell_type": "markdown",
   "metadata": {},
   "source": [
    "Vizalitation about gender with informational offer channel "
   ]
  },
  {
   "cell_type": "code",
   "execution_count": 60,
   "metadata": {},
   "outputs": [
    {
     "data": {
      "text/html": [
       "<div>\n",
       "<style scoped>\n",
       "    .dataframe tbody tr th:only-of-type {\n",
       "        vertical-align: middle;\n",
       "    }\n",
       "\n",
       "    .dataframe tbody tr th {\n",
       "        vertical-align: top;\n",
       "    }\n",
       "\n",
       "    .dataframe thead th {\n",
       "        text-align: right;\n",
       "    }\n",
       "</style>\n",
       "<table border=\"1\" class=\"dataframe\">\n",
       "  <thead>\n",
       "    <tr style=\"text-align: right;\">\n",
       "      <th></th>\n",
       "      <th>web</th>\n",
       "      <th>email</th>\n",
       "      <th>mobile</th>\n",
       "      <th>social</th>\n",
       "    </tr>\n",
       "  </thead>\n",
       "  <tbody>\n",
       "    <tr>\n",
       "      <th>M</th>\n",
       "      <td>66541</td>\n",
       "      <td>82689</td>\n",
       "      <td>76100</td>\n",
       "      <td>54948</td>\n",
       "    </tr>\n",
       "    <tr>\n",
       "      <th>F</th>\n",
       "      <td>51426</td>\n",
       "      <td>63558</td>\n",
       "      <td>58116</td>\n",
       "      <td>41475</td>\n",
       "    </tr>\n",
       "    <tr>\n",
       "      <th>O</th>\n",
       "      <td>1760</td>\n",
       "      <td>2184</td>\n",
       "      <td>1968</td>\n",
       "      <td>1341</td>\n",
       "    </tr>\n",
       "  </tbody>\n",
       "</table>\n",
       "</div>"
      ],
      "text/plain": [
       "     web  email  mobile  social\n",
       "M  66541  82689   76100   54948\n",
       "F  51426  63558   58116   41475\n",
       "O   1760   2184    1968    1341"
      ]
     },
     "execution_count": 60,
     "metadata": {},
     "output_type": "execute_result"
    }
   ],
   "source": [
    "# initialize the gender response \n",
    "gender_resp = pd.DataFrame(data=[[0,0,0,0],[0,0,0,0],[0,0,0,0]], index=['M', 'F', 'O'], columns=['web', 'email', 'mobile', 'social'])\n",
    "gender_sent = pd.DataFrame(data=[[0,0,0,0],[0,0,0,0],[0,0,0,0]], index=['M', 'F', 'O'], columns=['web', 'email', 'mobile', 'social'])\n",
    "\n",
    "channel_type = 'web'\n",
    "gender_sent[channel_type].iloc[0] = gender_sent[channel_type].add(df_offer.web[df_offer.gender=='M'].sum(), fill_value=0).iloc[0]\n",
    "gender_sent[channel_type].iloc[1] = gender_sent[channel_type].add(df_offer.web[df_offer.gender=='F'].sum(), fill_value=0).iloc[1]\n",
    "gender_sent[channel_type].iloc[2] = gender_sent[channel_type].add(df_offer.web[df_offer.gender=='O'].sum(), fill_value=0).iloc[2]\n",
    "channel_type = 'email'\n",
    "gender_sent[channel_type].iloc[0] = gender_sent[channel_type].add(df_offer.email[df_offer.gender=='M'].sum(), fill_value=0).iloc[0]\n",
    "gender_sent[channel_type].iloc[1] = gender_sent[channel_type].add(df_offer.email[df_offer.gender=='F'].sum(), fill_value=0).iloc[1]\n",
    "gender_sent[channel_type].iloc[2] = gender_sent[channel_type].add(df_offer.email[df_offer.gender=='O'].sum(), fill_value=0).iloc[2]\n",
    "channel_type = 'mobile'\n",
    "gender_sent[channel_type].iloc[0] = gender_sent[channel_type].add(df_offer.mobile[df_offer.gender=='M'].sum(), fill_value=0).iloc[0]\n",
    "gender_sent[channel_type].iloc[1] = gender_sent[channel_type].add(df_offer.mobile[df_offer.gender=='F'].sum(), fill_value=0).iloc[1]\n",
    "gender_sent[channel_type].iloc[2] = gender_sent[channel_type].add(df_offer.mobile[df_offer.gender=='O'].sum(), fill_value=0).iloc[2]\n",
    "channel_type = 'social'\n",
    "gender_sent[channel_type].iloc[0] = gender_sent[channel_type].add(df_offer.social[df_offer.gender=='M'].sum(), fill_value=0).iloc[0]\n",
    "gender_sent[channel_type].iloc[1] = gender_sent[channel_type].add(df_offer.social[df_offer.gender=='F'].sum(), fill_value=0).iloc[1]\n",
    "gender_sent[channel_type].iloc[2] = gender_sent[channel_type].add(df_offer.social[df_offer.gender=='O'].sum(), fill_value=0).iloc[2]\n",
    "\n",
    "gender_sent"
   ]
  },
  {
   "cell_type": "code",
   "execution_count": 61,
   "metadata": {},
   "outputs": [
    {
     "data": {
      "image/png": "[encoded data removed]",
      "text/plain": [
       "<Figure size 720x432 with 1 Axes>"
      ]
     },
     "metadata": {},
     "output_type": "display_data"
    }
   ],
   "source": [
    "gender_offer = gender_sent.plot(kind='bar', \n",
    "                                title='Summary of channel response', \n",
    "                                figsize=(10, 6))\n",
    "gender_offer.set_xlabel(\"Gender\")\n",
    "gender_offer.set_ylabel(\"Number\")\n",
    "plt.legend(title='Channel Type')\n",
    "plt.show()"
   ]
  },
  {
   "cell_type": "code",
   "execution_count": 62,
   "metadata": {},
   "outputs": [
    {
     "data": {
      "image/png": "[encoded data removed]",
      "text/plain": [
       "<Figure size 720x432 with 1 Axes>"
      ]
     },
     "metadata": {},
     "output_type": "display_data"
    }
   ],
   "source": [
    "# Which type of promotions each gender likes\n",
    "plt.figure(figsize=(10, 6))\n",
    "sns.countplot(x=profile.gender, \n",
    "              hue = 'offer_type', data=df_offer)\n",
    "plt.title('Number of Offers for the Gender')\n",
    "plt.ylabel('Number of Offers')\n",
    "plt.xlabel('Gender')\n",
    "plt.xticks(rotation = 0)\n",
    "plt.legend(title='Offer Type')\n",
    "plt.savefig(\"./figure/number_of_offers_for_the_gender.jpg\")\n",
    "plt.show()"
   ]
  },
  {
   "cell_type": "markdown",
   "metadata": {},
   "source": [
    "### Analyze Offer Statistics"
   ]
  },
  {
   "cell_type": "markdown",
   "metadata": {},
   "source": [
    "These results suggest that distribution of offers in the simulated Starbucks mobile application data is approximately uniform. \n",
    "\n",
    "\n",
    "\n",
    "They also imply that the percentage of an offer's success ranges from ~ 6% to 75%, with the two least successful offers being informational.\n",
    "\n",
    "!!!! tbd"
   ]
  },
  {
   "cell_type": "code",
   "execution_count": 63,
   "metadata": {},
   "outputs": [],
   "source": [
    "# Calculate all offers \n",
    "count_successful = df_offer.groupby(['offer_id']).agg({'offer_id':'count'})"
   ]
  },
  {
   "cell_type": "code",
   "execution_count": 64,
   "metadata": {},
   "outputs": [
    {
     "data": {
      "text/html": [
       "<div>\n",
       "<style scoped>\n",
       "    .dataframe tbody tr th:only-of-type {\n",
       "        vertical-align: middle;\n",
       "    }\n",
       "\n",
       "    .dataframe tbody tr th {\n",
       "        vertical-align: top;\n",
       "    }\n",
       "\n",
       "    .dataframe thead th {\n",
       "        text-align: right;\n",
       "    }\n",
       "</style>\n",
       "<table border=\"1\" class=\"dataframe\">\n",
       "  <thead>\n",
       "    <tr style=\"text-align: right;\">\n",
       "      <th></th>\n",
       "      <th>offer_id</th>\n",
       "    </tr>\n",
       "    <tr>\n",
       "      <th>offer_id</th>\n",
       "      <th></th>\n",
       "    </tr>\n",
       "  </thead>\n",
       "  <tbody>\n",
       "    <tr>\n",
       "      <th>0b1e1539f2cc45b7b9fa7c272da2e1d7</th>\n",
       "      <td>12247</td>\n",
       "    </tr>\n",
       "    <tr>\n",
       "      <th>2298d6c36e964ae4a3e7e9706d1fb8c2</th>\n",
       "      <td>17881</td>\n",
       "    </tr>\n",
       "    <tr>\n",
       "      <th>2906b810c7d4411798c6938adc9daaa5</th>\n",
       "      <td>13951</td>\n",
       "    </tr>\n",
       "    <tr>\n",
       "      <th>3f207df678b143eea3cee63160fa8bed</th>\n",
       "      <td>10144</td>\n",
       "    </tr>\n",
       "    <tr>\n",
       "      <th>4d5c57ea9a6940dd891ad53e9dbe8da0</th>\n",
       "      <td>16203</td>\n",
       "    </tr>\n",
       "    <tr>\n",
       "      <th>5a8bc65990b245e5a138643cd4eb9837</th>\n",
       "      <td>12516</td>\n",
       "    </tr>\n",
       "    <tr>\n",
       "      <th>9b98b8c7a33c4b65b9aebfe6a799e6d9</th>\n",
       "      <td>14325</td>\n",
       "    </tr>\n",
       "    <tr>\n",
       "      <th>ae264e3637204a6fb9bb56bc8210ddfd</th>\n",
       "      <td>16188</td>\n",
       "    </tr>\n",
       "    <tr>\n",
       "      <th>f19421c1d4aa40978ebb69ca19b0e20d</th>\n",
       "      <td>16960</td>\n",
       "    </tr>\n",
       "    <tr>\n",
       "      <th>fafdcd668e3743c1bb461111dcafc2a4</th>\n",
       "      <td>18016</td>\n",
       "    </tr>\n",
       "  </tbody>\n",
       "</table>\n",
       "</div>"
      ],
      "text/plain": [
       "                                  offer_id\n",
       "offer_id                                  \n",
       "0b1e1539f2cc45b7b9fa7c272da2e1d7     12247\n",
       "2298d6c36e964ae4a3e7e9706d1fb8c2     17881\n",
       "2906b810c7d4411798c6938adc9daaa5     13951\n",
       "3f207df678b143eea3cee63160fa8bed     10144\n",
       "4d5c57ea9a6940dd891ad53e9dbe8da0     16203\n",
       "5a8bc65990b245e5a138643cd4eb9837     12516\n",
       "9b98b8c7a33c4b65b9aebfe6a799e6d9     14325\n",
       "ae264e3637204a6fb9bb56bc8210ddfd     16188\n",
       "f19421c1d4aa40978ebb69ca19b0e20d     16960\n",
       "fafdcd668e3743c1bb461111dcafc2a4     18016"
      ]
     },
     "execution_count": 64,
     "metadata": {},
     "output_type": "execute_result"
    }
   ],
   "source": [
    "# show me the results\n",
    "count_successful"
   ]
  },
  {
   "cell_type": "code",
   "execution_count": 65,
   "metadata": {},
   "outputs": [
    {
     "data": {
      "image/png": "[encoded data removed]",
      "text/plain": [
       "<Figure size 720x432 with 1 Axes>"
      ]
     },
     "metadata": {},
     "output_type": "display_data"
    }
   ],
   "source": [
    "# plot the results of the offers\n",
    "success_offer = count_successful.plot(kind='bar', \n",
    "                                      title='Summary of Offers',\n",
    "                                      figsize=(10, 6))\n",
    "success_offer.set_xlabel(\"Offer\")\n",
    "success_offer.set_ylabel(\"Count\")\n",
    "plt.show()"
   ]
  },
  {
   "cell_type": "markdown",
   "metadata": {},
   "source": [
    "**Interims result**\n",
    "\n",
    "It seems that there is an equal distribution of offers in the Starbucks app. BOGO and Discount are considered equally important for both women and men. In contrast, the informational offers are significantly lower.\n",
    "\n",
    "A closer look at the offer channels, the email and mobile channels are more advantageous than those via the web or social networks.\n",
    "\n",
    "With a deeper analysis of the possible offers, the following becomes clear when dividing up:\n",
    "\n",
    "Discount with 62,095 offers is viewed the most frequently with 91% and the most successful with 63% completed answers.\n",
    "\n",
    "The results of the BOGO are not bad either. Here the 63,676 data were after all a success rate of 65%.\n",
    "\n",
    "The 22,660 information on the 4 offer channels, web, email, mobile and social networks are viewed with 70%."
   ]
  },
  {
   "cell_type": "markdown",
   "metadata": {},
   "source": [
    "<a id='Model'></a>\n",
    "## 7 Modeling \n",
    "   "
   ]
  },
  {
   "cell_type": "markdown",
   "metadata": {},
   "source": [
    "Setup the metric. In my case I want to use the 'Confusion Matrix'. A nice description I found here https://medium.com/thalus-ai/performance-metrics-for-classification-problems-in-machine-learning-part-i-b085d432082b.\n",
    "\n",
    "To decide which model and thus the classification can, I need a method. I found this in the confusion matrix. With this the correctness and accuracy of a model can be determined. Now I have to define in advance what I mean by correctness and accuracy. The question helps me how many Starbucks customers use exactly one specific offer. This can be represented with this formula:\n"
   ]
  },
  {
   "cell_type": "markdown",
   "metadata": {},
   "source": [
    "\\begin{equation*}\n",
    "Accuracy=\\frac{True Positive + True Negative}{True Positive + False Positive + False Negative + True Negative}\n",
    "\\end{equation*}"
   ]
  },
  {
   "cell_type": "markdown",
   "metadata": {},
   "source": [
    "\\begin{equation*}\n",
    "F1=2\\times \\frac{Precision\\times Recall}{Precision+Recall}\n",
    "\\end{equation*}"
   ]
  },
  {
   "cell_type": "markdown",
   "metadata": {},
   "source": [
    "\\begin{equation*}\n",
    "Precision=\\frac{True Positive}{True Positive+False Positive}\n",
    "\\end{equation*}"
   ]
  },
  {
   "cell_type": "markdown",
   "metadata": {},
   "source": [
    "\\begin{equation*}\n",
    "Recall=\\frac{True Positive}{True Positive+False Negative}\n",
    "\\end{equation*}"
   ]
  },
  {
   "cell_type": "markdown",
   "metadata": {},
   "source": [
    "<a id='LabelModel'></a>\n",
    "### 7.1 Label for modeling "
   ]
  },
  {
   "cell_type": "markdown",
   "metadata": {},
   "source": [
    "For further analysis and modeling methods, evaluable numerical columns must be made from the   'category' data types. The information is temporarily stored for later use."
   ]
  },
  {
   "cell_type": "code",
   "execution_count": 66,
   "metadata": {
    "scrolled": true
   },
   "outputs": [
    {
     "name": "stdout",
     "output_type": "stream",
     "text": [
      "<class 'pandas.core.frame.DataFrame'>\n",
      "Int64Index: 148431 entries, 0 to 148430\n",
      "Data columns (total 26 columns):\n",
      "customer_id          148431 non-null object\n",
      "offer_id             148431 non-null object\n",
      "time                 148431 non-null float64\n",
      "completed            148431 non-null uint8\n",
      "received             148431 non-null uint8\n",
      "viewed               148431 non-null uint8\n",
      "reward               148431 non-null int64\n",
      "difficulty           148431 non-null int64\n",
      "duration             148431 non-null int64\n",
      "offer_type           148431 non-null object\n",
      "email                148431 non-null int64\n",
      "mobile               148431 non-null int64\n",
      "social               148431 non-null int64\n",
      "web                  148431 non-null int64\n",
      "bogo                 148431 non-null uint8\n",
      "discount             148431 non-null uint8\n",
      "informational        148431 non-null uint8\n",
      "gender               148431 non-null object\n",
      "age                  148431 non-null int64\n",
      "income               148431 non-null float64\n",
      "membership_start     148431 non-null datetime64[ns]\n",
      "membership_period    148431 non-null period[M]\n",
      "member_year          148431 non-null int64\n",
      "member_month         148431 non-null int64\n",
      "member_day           148431 non-null int64\n",
      "member_date          148431 non-null datetime64[ns]\n",
      "dtypes: datetime64[ns](2), float64(2), int64(11), object(4), period[M](1), uint8(6)\n",
      "memory usage: 29.6+ MB\n",
      "\n",
      "\n",
      "Series([], dtype: float64)\n",
      "\n",
      "\n",
      "no missing values\n",
      "{'age', 'time', 'social', 'informational', 'membership_period', 'viewed', 'member_day', 'member_month', 'completed', 'customer_id', 'bogo', 'income', 'member_year', 'gender', 'duration', 'offer_type', 'web', 'offer_id', 'membership_start', 'discount', 'reward', 'email', 'received', 'mobile', 'member_date', 'difficulty'}\n",
      "\n",
      "\n",
      "most missing values\n",
      "set()\n"
     ]
    }
   ],
   "source": [
    "summary(df_offer)"
   ]
  },
  {
   "cell_type": "code",
   "execution_count": 67,
   "metadata": {},
   "outputs": [
    {
     "name": "stdout",
     "output_type": "stream",
     "text": [
      "{'offer_id': {'0b1e1539f2cc45b7b9fa7c272da2e1d7': 1, '2298d6c36e964ae4a3e7e9706d1fb8c2': 2, '2906b810c7d4411798c6938adc9daaa5': 3, '3f207df678b143eea3cee63160fa8bed': 4, '4d5c57ea9a6940dd891ad53e9dbe8da0': 5, '5a8bc65990b245e5a138643cd4eb9837': 6, '9b98b8c7a33c4b65b9aebfe6a799e6d9': 7, 'ae264e3637204a6fb9bb56bc8210ddfd': 8, 'f19421c1d4aa40978ebb69ca19b0e20d': 9, 'fafdcd668e3743c1bb461111dcafc2a4': 10}}\n",
      "{'offer_type': {'bogo': 1, 'discount': 2, 'informational': 3}}\n",
      "{'gender': {'F': 1, 'M': 2, 'O': 3}}\n"
     ]
    }
   ],
   "source": [
    "# Encode the labes and save this \n",
    "# data object customer_id\n",
    "labels_customer_id = df_offer['customer_id'].astype('category').cat.categories.tolist()\n",
    "map_tab_customer_id = {'customer_id' : {k: v for k,v in zip(labels_customer_id,list(range(1,len(labels_customer_id)+1)))}}\n",
    "# data object offer_id\n",
    "labels_offer_id = df_offer['offer_id'].astype('category').cat.categories.tolist()\n",
    "map_tab_offer_id = {'offer_id' : {k: v for k,v in zip(labels_offer_id,list(range(1,len(labels_offer_id)+1)))}}\n",
    "# data object offer_type\n",
    "labels_offer_type = df_offer['offer_type'].astype('category').cat.categories.tolist()\n",
    "map_tab_offer_type = {'offer_type' : {k: v for k,v in zip(labels_offer_type,list(range(1,len(labels_offer_type)+1)))}}\n",
    "# data object genter\n",
    "labels_gender = df_offer['gender'].astype('category').cat.categories.tolist()\n",
    "map_tab_gender = {'gender' : {k: v for k,v in zip(labels_gender,list(range(1,len(labels_gender)+1)))}}\n",
    "# print(replace_map_comp_gender)\n",
    "# show me the mapping results\n",
    "# print(map_tab_customer_id)\n",
    "print(map_tab_offer_id)\n",
    "print(map_tab_offer_type)\n",
    "print(map_tab_gender)"
   ]
  },
  {
   "cell_type": "code",
   "execution_count": 68,
   "metadata": {},
   "outputs": [],
   "source": [
    "# now replace the categorical with numerical \n",
    "df_offer.replace(map_tab_customer_id, inplace=True)\n",
    "df_offer.replace(map_tab_offer_id, inplace=True)\n",
    "df_offer.replace(map_tab_offer_type, inplace=True)\n",
    "df_offer.replace(map_tab_gender, inplace=True)"
   ]
  },
  {
   "cell_type": "code",
   "execution_count": 69,
   "metadata": {},
   "outputs": [
    {
     "data": {
      "text/html": [
       "<div>\n",
       "<style scoped>\n",
       "    .dataframe tbody tr th:only-of-type {\n",
       "        vertical-align: middle;\n",
       "    }\n",
       "\n",
       "    .dataframe tbody tr th {\n",
       "        vertical-align: top;\n",
       "    }\n",
       "\n",
       "    .dataframe thead th {\n",
       "        text-align: right;\n",
       "    }\n",
       "</style>\n",
       "<table border=\"1\" class=\"dataframe\">\n",
       "  <thead>\n",
       "    <tr style=\"text-align: right;\">\n",
       "      <th></th>\n",
       "      <th>customer_id</th>\n",
       "      <th>offer_id</th>\n",
       "      <th>time</th>\n",
       "      <th>completed</th>\n",
       "      <th>received</th>\n",
       "      <th>viewed</th>\n",
       "      <th>reward</th>\n",
       "      <th>difficulty</th>\n",
       "      <th>duration</th>\n",
       "      <th>offer_type</th>\n",
       "      <th>...</th>\n",
       "      <th>informational</th>\n",
       "      <th>gender</th>\n",
       "      <th>age</th>\n",
       "      <th>income</th>\n",
       "      <th>membership_start</th>\n",
       "      <th>membership_period</th>\n",
       "      <th>member_year</th>\n",
       "      <th>member_month</th>\n",
       "      <th>member_day</th>\n",
       "      <th>member_date</th>\n",
       "    </tr>\n",
       "  </thead>\n",
       "  <tbody>\n",
       "    <tr>\n",
       "      <th>105509</th>\n",
       "      <td>733</td>\n",
       "      <td>1</td>\n",
       "      <td>21.0</td>\n",
       "      <td>0</td>\n",
       "      <td>1</td>\n",
       "      <td>0</td>\n",
       "      <td>5</td>\n",
       "      <td>20</td>\n",
       "      <td>240</td>\n",
       "      <td>2</td>\n",
       "      <td>...</td>\n",
       "      <td>0</td>\n",
       "      <td>1</td>\n",
       "      <td>40</td>\n",
       "      <td>53000.0</td>\n",
       "      <td>2017-11-03</td>\n",
       "      <td>2017-11</td>\n",
       "      <td>2017</td>\n",
       "      <td>11</td>\n",
       "      <td>3</td>\n",
       "      <td>2017-11-03</td>\n",
       "    </tr>\n",
       "    <tr>\n",
       "      <th>142387</th>\n",
       "      <td>13390</td>\n",
       "      <td>8</td>\n",
       "      <td>25.5</td>\n",
       "      <td>0</td>\n",
       "      <td>0</td>\n",
       "      <td>1</td>\n",
       "      <td>10</td>\n",
       "      <td>10</td>\n",
       "      <td>168</td>\n",
       "      <td>1</td>\n",
       "      <td>...</td>\n",
       "      <td>0</td>\n",
       "      <td>1</td>\n",
       "      <td>67</td>\n",
       "      <td>34000.0</td>\n",
       "      <td>2015-07-27</td>\n",
       "      <td>2015-07</td>\n",
       "      <td>2015</td>\n",
       "      <td>7</td>\n",
       "      <td>27</td>\n",
       "      <td>2015-07-27</td>\n",
       "    </tr>\n",
       "    <tr>\n",
       "      <th>55517</th>\n",
       "      <td>2599</td>\n",
       "      <td>10</td>\n",
       "      <td>14.0</td>\n",
       "      <td>0</td>\n",
       "      <td>1</td>\n",
       "      <td>0</td>\n",
       "      <td>2</td>\n",
       "      <td>10</td>\n",
       "      <td>240</td>\n",
       "      <td>2</td>\n",
       "      <td>...</td>\n",
       "      <td>0</td>\n",
       "      <td>2</td>\n",
       "      <td>72</td>\n",
       "      <td>37000.0</td>\n",
       "      <td>2018-03-01</td>\n",
       "      <td>2018-03</td>\n",
       "      <td>2018</td>\n",
       "      <td>3</td>\n",
       "      <td>1</td>\n",
       "      <td>2018-03-01</td>\n",
       "    </tr>\n",
       "    <tr>\n",
       "      <th>106698</th>\n",
       "      <td>6922</td>\n",
       "      <td>9</td>\n",
       "      <td>21.0</td>\n",
       "      <td>0</td>\n",
       "      <td>1</td>\n",
       "      <td>0</td>\n",
       "      <td>5</td>\n",
       "      <td>5</td>\n",
       "      <td>120</td>\n",
       "      <td>1</td>\n",
       "      <td>...</td>\n",
       "      <td>0</td>\n",
       "      <td>1</td>\n",
       "      <td>60</td>\n",
       "      <td>43000.0</td>\n",
       "      <td>2018-06-11</td>\n",
       "      <td>2018-06</td>\n",
       "      <td>2018</td>\n",
       "      <td>6</td>\n",
       "      <td>11</td>\n",
       "      <td>2018-06-11</td>\n",
       "    </tr>\n",
       "    <tr>\n",
       "      <th>12377</th>\n",
       "      <td>3286</td>\n",
       "      <td>2</td>\n",
       "      <td>0.0</td>\n",
       "      <td>0</td>\n",
       "      <td>0</td>\n",
       "      <td>1</td>\n",
       "      <td>3</td>\n",
       "      <td>7</td>\n",
       "      <td>168</td>\n",
       "      <td>2</td>\n",
       "      <td>...</td>\n",
       "      <td>0</td>\n",
       "      <td>1</td>\n",
       "      <td>28</td>\n",
       "      <td>73000.0</td>\n",
       "      <td>2018-07-03</td>\n",
       "      <td>2018-07</td>\n",
       "      <td>2018</td>\n",
       "      <td>7</td>\n",
       "      <td>3</td>\n",
       "      <td>2018-07-03</td>\n",
       "    </tr>\n",
       "  </tbody>\n",
       "</table>\n",
       "<p>5 rows × 26 columns</p>\n",
       "</div>"
      ],
      "text/plain": [
       "        customer_id  offer_id  time  completed  received  viewed  reward  \\\n",
       "105509          733         1  21.0          0         1       0       5   \n",
       "142387        13390         8  25.5          0         0       1      10   \n",
       "55517          2599        10  14.0          0         1       0       2   \n",
       "106698         6922         9  21.0          0         1       0       5   \n",
       "12377          3286         2   0.0          0         0       1       3   \n",
       "\n",
       "        difficulty  duration  offer_type  ...  informational  gender  age  \\\n",
       "105509          20       240           2  ...              0       1   40   \n",
       "142387          10       168           1  ...              0       1   67   \n",
       "55517           10       240           2  ...              0       2   72   \n",
       "106698           5       120           1  ...              0       1   60   \n",
       "12377            7       168           2  ...              0       1   28   \n",
       "\n",
       "         income  membership_start  membership_period  member_year  \\\n",
       "105509  53000.0        2017-11-03            2017-11         2017   \n",
       "142387  34000.0        2015-07-27            2015-07         2015   \n",
       "55517   37000.0        2018-03-01            2018-03         2018   \n",
       "106698  43000.0        2018-06-11            2018-06         2018   \n",
       "12377   73000.0        2018-07-03            2018-07         2018   \n",
       "\n",
       "        member_month  member_day  member_date  \n",
       "105509            11           3   2017-11-03  \n",
       "142387             7          27   2015-07-27  \n",
       "55517              3           1   2018-03-01  \n",
       "106698             6          11   2018-06-11  \n",
       "12377              7           3   2018-07-03  \n",
       "\n",
       "[5 rows x 26 columns]"
      ]
     },
     "execution_count": 69,
     "metadata": {},
     "output_type": "execute_result"
    }
   ],
   "source": [
    "# show me the results in data frame after mapping\n",
    "df_offer.sample(5)"
   ]
  },
  {
   "cell_type": "markdown",
   "metadata": {},
   "source": [
    "<a id='NormModel'></a>\n",
    "### 7. 2 Normalize for modeling "
   ]
  },
  {
   "cell_type": "markdown",
   "metadata": {},
   "source": [
    "I need the normalization of numerical values because I want to use them as features"
   ]
  },
  {
   "cell_type": "code",
   "execution_count": 70,
   "metadata": {},
   "outputs": [],
   "source": [
    "# create features \n",
    "df_model = df_offer.copy()\n",
    "scaler = MinMaxScaler()\n",
    "to_normalize = ['time', 'age', 'income', 'member_year']\n",
    "df_model[to_normalize] = scaler.fit_transform(df_model[to_normalize])"
   ]
  },
  {
   "cell_type": "code",
   "execution_count": 71,
   "metadata": {},
   "outputs": [],
   "source": [
    "# at frist I split the data frame into target and features\n",
    "X_features = df_model.drop(['offer_id',\n",
    "                            'customer_id',\n",
    "                            'time',\n",
    "                            'completed', \n",
    "                            'received', \n",
    "                            'viewed',\n",
    "                            'reward',\n",
    "                            'email',\n",
    "                            'mobile',\n",
    "                            'social', \n",
    "                            'web',\n",
    "                          'difficulty',\n",
    "                          'duration',\n",
    "                          'membership_start',\n",
    "                          'membership_period',\n",
    "                          'member_month',\n",
    "                          'member_day',\n",
    "                          'member_date',\n",
    "                          'offer_type'], axis = 1)"
   ]
  },
  {
   "cell_type": "code",
   "execution_count": 72,
   "metadata": {},
   "outputs": [
    {
     "data": {
      "text/html": [
       "<div>\n",
       "<style scoped>\n",
       "    .dataframe tbody tr th:only-of-type {\n",
       "        vertical-align: middle;\n",
       "    }\n",
       "\n",
       "    .dataframe tbody tr th {\n",
       "        vertical-align: top;\n",
       "    }\n",
       "\n",
       "    .dataframe thead th {\n",
       "        text-align: right;\n",
       "    }\n",
       "</style>\n",
       "<table border=\"1\" class=\"dataframe\">\n",
       "  <thead>\n",
       "    <tr style=\"text-align: right;\">\n",
       "      <th></th>\n",
       "      <th>bogo</th>\n",
       "      <th>discount</th>\n",
       "      <th>informational</th>\n",
       "      <th>gender</th>\n",
       "      <th>age</th>\n",
       "      <th>income</th>\n",
       "      <th>member_year</th>\n",
       "    </tr>\n",
       "  </thead>\n",
       "  <tbody>\n",
       "    <tr>\n",
       "      <th>22713</th>\n",
       "      <td>0</td>\n",
       "      <td>1</td>\n",
       "      <td>0</td>\n",
       "      <td>2</td>\n",
       "      <td>0.481928</td>\n",
       "      <td>0.566667</td>\n",
       "      <td>0.8</td>\n",
       "    </tr>\n",
       "    <tr>\n",
       "      <th>146510</th>\n",
       "      <td>0</td>\n",
       "      <td>1</td>\n",
       "      <td>0</td>\n",
       "      <td>2</td>\n",
       "      <td>0.012048</td>\n",
       "      <td>0.266667</td>\n",
       "      <td>0.4</td>\n",
       "    </tr>\n",
       "    <tr>\n",
       "      <th>32619</th>\n",
       "      <td>1</td>\n",
       "      <td>0</td>\n",
       "      <td>0</td>\n",
       "      <td>2</td>\n",
       "      <td>0.650602</td>\n",
       "      <td>0.455556</td>\n",
       "      <td>0.6</td>\n",
       "    </tr>\n",
       "    <tr>\n",
       "      <th>70086</th>\n",
       "      <td>1</td>\n",
       "      <td>0</td>\n",
       "      <td>0</td>\n",
       "      <td>2</td>\n",
       "      <td>0.554217</td>\n",
       "      <td>0.722222</td>\n",
       "      <td>0.6</td>\n",
       "    </tr>\n",
       "    <tr>\n",
       "      <th>140565</th>\n",
       "      <td>0</td>\n",
       "      <td>1</td>\n",
       "      <td>0</td>\n",
       "      <td>1</td>\n",
       "      <td>0.385542</td>\n",
       "      <td>0.511111</td>\n",
       "      <td>0.8</td>\n",
       "    </tr>\n",
       "  </tbody>\n",
       "</table>\n",
       "</div>"
      ],
      "text/plain": [
       "        bogo  discount  informational  gender       age    income  member_year\n",
       "22713      0         1              0       2  0.481928  0.566667          0.8\n",
       "146510     0         1              0       2  0.012048  0.266667          0.4\n",
       "32619      1         0              0       2  0.650602  0.455556          0.6\n",
       "70086      1         0              0       2  0.554217  0.722222          0.6\n",
       "140565     0         1              0       1  0.385542  0.511111          0.8"
      ]
     },
     "execution_count": 72,
     "metadata": {},
     "output_type": "execute_result"
    }
   ],
   "source": [
    "X_features.sample(5)"
   ]
  },
  {
   "cell_type": "code",
   "execution_count": 73,
   "metadata": {},
   "outputs": [],
   "source": [
    "# create target\n",
    "# Y_target = df_offer.offer_type\n",
    "Y_target = df_offer['offer_type']"
   ]
  },
  {
   "cell_type": "code",
   "execution_count": 74,
   "metadata": {},
   "outputs": [
    {
     "data": {
      "text/plain": [
       "23058     1\n",
       "88074     3\n",
       "136192    2\n",
       "44924     2\n",
       "101017    2\n",
       "Name: offer_type, dtype: int64"
      ]
     },
     "execution_count": 74,
     "metadata": {},
     "output_type": "execute_result"
    }
   ],
   "source": [
    "Y_target.sample(5)"
   ]
  },
  {
   "cell_type": "code",
   "execution_count": 75,
   "metadata": {},
   "outputs": [],
   "source": [
    "# split the data in test and train\n",
    "(X_train,\n",
    " X_test,\n",
    " y_train,\n",
    " y_test) = train_test_split(X_features, \n",
    "                            Y_target,\n",
    "                            test_size=0.25,\n",
    "                            random_state=42,\n",
    "                           shuffle=True)\n",
    "y_train = y_train.ravel()\n",
    "y_test = y_test.ravel()"
   ]
  },
  {
   "cell_type": "code",
   "execution_count": 76,
   "metadata": {},
   "outputs": [
    {
     "name": "stdout",
     "output_type": "stream",
     "text": [
      "Training Features:  (111323, 7)\n",
      "Training Labels:  (111323,)\n",
      "Testing Features:  (37108, 7)\n",
      "Testing Labels:  (37108,)\n"
     ]
    }
   ],
   "source": [
    "# Show me the results\n",
    "print('Training Features: ', X_train.shape)\n",
    "print('Training Labels: ', y_train.shape)\n",
    "print('Testing Features: ', X_test.shape)\n",
    "print('Testing Labels: ', y_test.shape)"
   ]
  },
  {
   "cell_type": "code",
   "execution_count": 77,
   "metadata": {},
   "outputs": [
    {
     "data": {
      "text/html": [
       "<div>\n",
       "<style scoped>\n",
       "    .dataframe tbody tr th:only-of-type {\n",
       "        vertical-align: middle;\n",
       "    }\n",
       "\n",
       "    .dataframe tbody tr th {\n",
       "        vertical-align: top;\n",
       "    }\n",
       "\n",
       "    .dataframe thead th {\n",
       "        text-align: right;\n",
       "    }\n",
       "</style>\n",
       "<table border=\"1\" class=\"dataframe\">\n",
       "  <thead>\n",
       "    <tr style=\"text-align: right;\">\n",
       "      <th></th>\n",
       "      <th>bogo</th>\n",
       "      <th>discount</th>\n",
       "      <th>informational</th>\n",
       "      <th>gender</th>\n",
       "      <th>age</th>\n",
       "      <th>income</th>\n",
       "      <th>member_year</th>\n",
       "    </tr>\n",
       "  </thead>\n",
       "  <tbody>\n",
       "    <tr>\n",
       "      <th>79649</th>\n",
       "      <td>0</td>\n",
       "      <td>1</td>\n",
       "      <td>0</td>\n",
       "      <td>2</td>\n",
       "      <td>0.180723</td>\n",
       "      <td>0.166667</td>\n",
       "      <td>1.0</td>\n",
       "    </tr>\n",
       "    <tr>\n",
       "      <th>95685</th>\n",
       "      <td>0</td>\n",
       "      <td>1</td>\n",
       "      <td>0</td>\n",
       "      <td>2</td>\n",
       "      <td>0.554217</td>\n",
       "      <td>0.500000</td>\n",
       "      <td>0.4</td>\n",
       "    </tr>\n",
       "    <tr>\n",
       "      <th>1060</th>\n",
       "      <td>0</td>\n",
       "      <td>1</td>\n",
       "      <td>0</td>\n",
       "      <td>1</td>\n",
       "      <td>0.518072</td>\n",
       "      <td>0.500000</td>\n",
       "      <td>0.4</td>\n",
       "    </tr>\n",
       "    <tr>\n",
       "      <th>6764</th>\n",
       "      <td>1</td>\n",
       "      <td>0</td>\n",
       "      <td>0</td>\n",
       "      <td>2</td>\n",
       "      <td>0.530120</td>\n",
       "      <td>0.200000</td>\n",
       "      <td>0.8</td>\n",
       "    </tr>\n",
       "    <tr>\n",
       "      <th>60150</th>\n",
       "      <td>0</td>\n",
       "      <td>1</td>\n",
       "      <td>0</td>\n",
       "      <td>2</td>\n",
       "      <td>0.457831</td>\n",
       "      <td>0.044444</td>\n",
       "      <td>1.0</td>\n",
       "    </tr>\n",
       "  </tbody>\n",
       "</table>\n",
       "</div>"
      ],
      "text/plain": [
       "       bogo  discount  informational  gender       age    income  member_year\n",
       "79649     0         1              0       2  0.180723  0.166667          1.0\n",
       "95685     0         1              0       2  0.554217  0.500000          0.4\n",
       "1060      0         1              0       1  0.518072  0.500000          0.4\n",
       "6764      1         0              0       2  0.530120  0.200000          0.8\n",
       "60150     0         1              0       2  0.457831  0.044444          1.0"
      ]
     },
     "execution_count": 77,
     "metadata": {},
     "output_type": "execute_result"
    }
   ],
   "source": [
    "X_train.sample(5)"
   ]
  },
  {
   "cell_type": "code",
   "execution_count": 78,
   "metadata": {},
   "outputs": [
    {
     "data": {
      "text/plain": [
       "array([2, 2, 3, ..., 1, 2, 1], dtype=int64)"
      ]
     },
     "execution_count": 78,
     "metadata": {},
     "output_type": "execute_result"
    }
   ],
   "source": [
    "y_test"
   ]
  },
  {
   "cell_type": "code",
   "execution_count": 79,
   "metadata": {},
   "outputs": [
    {
     "data": {
      "text/plain": [
       "array([2, 2, 2, ..., 2, 2, 3], dtype=int64)"
      ]
     },
     "execution_count": 79,
     "metadata": {},
     "output_type": "execute_result"
    }
   ],
   "source": [
    "y_train"
   ]
  },
  {
   "cell_type": "markdown",
   "metadata": {},
   "source": [
    "<a id='pipline'></a>\n",
    "### 7.3 Make a Pipline to Find the Best Model"
   ]
  },
  {
   "cell_type": "code",
   "execution_count": 80,
   "metadata": {},
   "outputs": [
    {
     "name": "stdout",
     "output_type": "stream",
     "text": [
      "name SVC  acc2  100.0\n",
      "name LogisticRegression  acc2  100.0\n",
      "name DecisionTreeClassifier  acc2  100.0\n",
      "name RandomForestClassifier  acc2  100.0\n",
      "name GaussianNB  acc2  100.0\n",
      "name AdaBoostClassifier  acc2  100.0\n"
     ]
    },
    {
     "data": {
      "image/png": "[encoded data removed]",
      "text/plain": [
       "<Figure size 720x432 with 1 Axes>"
      ]
     },
     "metadata": {},
     "output_type": "display_data"
    }
   ],
   "source": [
    "# Let's check out which classifier will work best in our case\n",
    "# Instantiate the classifier pipline \n",
    "classifiers = [SVC(gamma='scale'),\n",
    "               LogisticRegression(random_state=None, \n",
    "                                  multi_class='auto', \n",
    "                                  solver='lbfgs',\n",
    "                                  max_iter=101), \n",
    "                DecisionTreeClassifier(),\n",
    "                RandomForestClassifier(n_estimators=105),\n",
    "                GaussianNB(),\n",
    "                AdaBoostClassifier()]\n",
    "\n",
    "perf_clf = pd.DataFrame(columns=[\"Classifier\", \"F1_Score\"])\n",
    "\n",
    "acc_dict = {}\n",
    "\n",
    "nb_epoch=200\n",
    "batch_size=10\n",
    "\n",
    "for clf in classifiers:\n",
    "    name = clf.__class__.__name__\n",
    "    # Fit to the training data\n",
    "    clf.fit(X_train, y_train)\n",
    "    # Predict the labels of the test set\n",
    "    y_pred = clf.predict(X_test)\n",
    "    # y_pred = (y_pred > .5) * 1\n",
    "    # calculate F1 Score with function f1_score\n",
    "    acc = f1_score(y_pred, y_test, average='macro')\n",
    "    ## calculate the absolute errors\n",
    "    errors = abs(y_pred - y_test)\n",
    "    ## calculate mean absolute percentage error\n",
    "    mape = 100 * (errors / y_test)\n",
    "    acc2 = 100 - np.mean(mape)\n",
    "    print('name', name, ' acc2 ', acc2 )\n",
    "    if name not in acc_dict:\n",
    "        acc_dict[name] = acc\n",
    "    else:\n",
    "        acc_dict[name] += acc\n",
    "\n",
    "for clf in acc_dict:\n",
    "    perf_clf_row = pd.DataFrame([[clf, acc_dict[clf]]], columns=[\"Classifier\", \"F1_Score\"])\n",
    "    perf_clf = perf_clf.append(perf_clf_row)\n",
    "\n",
    "plt.figure(figsize=(10, 6))\n",
    "plt.xlabel('F1_Score')\n",
    "plt.title('Classifier F1_Score')\n",
    "plt.savefig(\"./figure/classifier_F1_score.jpg\")\n",
    "sns.barplot(x='F1_Score', y='Classifier', data=perf_clf);"
   ]
  },
  {
   "cell_type": "code",
   "execution_count": 82,
   "metadata": {},
   "outputs": [
    {
     "data": {
      "text/html": [
       "<div>\n",
       "<style scoped>\n",
       "    .dataframe tbody tr th:only-of-type {\n",
       "        vertical-align: middle;\n",
       "    }\n",
       "\n",
       "    .dataframe tbody tr th {\n",
       "        vertical-align: top;\n",
       "    }\n",
       "\n",
       "    .dataframe thead th {\n",
       "        text-align: right;\n",
       "    }\n",
       "</style>\n",
       "<table border=\"1\" class=\"dataframe\">\n",
       "  <thead>\n",
       "    <tr style=\"text-align: right;\">\n",
       "      <th></th>\n",
       "      <th>Classifier</th>\n",
       "      <th>F1_Score</th>\n",
       "    </tr>\n",
       "  </thead>\n",
       "  <tbody>\n",
       "    <tr>\n",
       "      <th>0</th>\n",
       "      <td>SVC</td>\n",
       "      <td>1.0</td>\n",
       "    </tr>\n",
       "    <tr>\n",
       "      <th>0</th>\n",
       "      <td>LogisticRegression</td>\n",
       "      <td>1.0</td>\n",
       "    </tr>\n",
       "    <tr>\n",
       "      <th>0</th>\n",
       "      <td>DecisionTreeClassifier</td>\n",
       "      <td>1.0</td>\n",
       "    </tr>\n",
       "    <tr>\n",
       "      <th>0</th>\n",
       "      <td>RandomForestClassifier</td>\n",
       "      <td>1.0</td>\n",
       "    </tr>\n",
       "    <tr>\n",
       "      <th>0</th>\n",
       "      <td>GaussianNB</td>\n",
       "      <td>1.0</td>\n",
       "    </tr>\n",
       "    <tr>\n",
       "      <th>0</th>\n",
       "      <td>AdaBoostClassifier</td>\n",
       "      <td>1.0</td>\n",
       "    </tr>\n",
       "  </tbody>\n",
       "</table>\n",
       "</div>"
      ],
      "text/plain": [
       "               Classifier  F1_Score\n",
       "0                     SVC       1.0\n",
       "0      LogisticRegression       1.0\n",
       "0  DecisionTreeClassifier       1.0\n",
       "0  RandomForestClassifier       1.0\n",
       "0              GaussianNB       1.0\n",
       "0      AdaBoostClassifier       1.0"
      ]
     },
     "execution_count": 82,
     "metadata": {},
     "output_type": "execute_result"
    }
   ],
   "source": [
    "perf_clf"
   ]
  },
  {
   "cell_type": "markdown",
   "metadata": {},
   "source": [
    "#### Evaluating the model performance"
   ]
  },
  {
   "cell_type": "code",
   "execution_count": 83,
   "metadata": {},
   "outputs": [
    {
     "name": "stdout",
     "output_type": "stream",
     "text": [
      "Naive predictor accuracy: 0.429\n",
      "Naive predictor f1-score: 0.429\n"
     ]
    }
   ],
   "source": [
    "# A naive predictor assumes that all customer offers were successful\n",
    "# reference: https://www.ritchieng.com/machine-learning-evaluate-classification-model/\n",
    "naive_predictor_accuracy = accuracy_score(y_train,np.ones(len(y_train)))\n",
    "naive_predictor_f1score = f1_score(y_train, np.ones(len(y_train)), average='micro')\n",
    "\n",
    "print(\"Naive predictor accuracy: %.3f\" % (naive_predictor_accuracy))\n",
    "print(\"Naive predictor f1-score: %.3f\" % (naive_predictor_f1score))"
   ]
  },
  {
   "cell_type": "markdown",
   "metadata": {},
   "source": [
    "<a id='improvements'></a>\n",
    "### 7.4 Model Improvements"
   ]
  },
  {
   "cell_type": "markdown",
   "metadata": {},
   "source": [
    "I have more than one best model. So is my decission for RandomForestClassifier as the best classifier. Therefore, we conduct GridSearch on it to find the best parameters:"
   ]
  },
  {
   "cell_type": "code",
   "execution_count": 84,
   "metadata": {},
   "outputs": [],
   "source": [
    "# let see the training with random forest classifier  ... \n",
    "def fit_random_forest_classifier(features, target):\n",
    "    #First let's create training and testing data\n",
    "    X_train, X_test, Y_train, Y_test = train_test_split(features, \n",
    "                                                        target, \n",
    "                                                        test_size=0.33, \n",
    "                                                        random_state=42) \n",
    "    # I could grid search and tune, but let's just fit a simple model to see how it does\n",
    "    # instantiate\n",
    "    clf = RandomForestClassifier(n_estimators=1000, \n",
    "                                 n_jobs = 8, \n",
    "                                 max_features = 'auto', \n",
    "                                 bootstrap=False,\n",
    "                                 max_depth=None)\n",
    "    # get the full class name\n",
    "    class_name = re.sub(\"[<>']\", '', str(clf.__class__))\n",
    "    class_name = class_name.split(' ')[1]\n",
    "    class_name = class_name.split('.')[-1]\n",
    "    # find best param\n",
    "    param_grid = {\n",
    "        'n_estimators': [200,500],\n",
    "        'max_features': [.5,.7],\n",
    "        'bootstrap': [False, True],\n",
    "        'max_depth':[3,6]}\n",
    "    scorer = make_scorer(fbeta_score,\n",
    "                     beta=0.5, average='macro')\n",
    "    # get the cross value score\n",
    "    cv = ShuffleSplit()\n",
    "    grid_obj = GridSearchCV(estimator=clf, \n",
    "                          param_grid=param_grid,\n",
    "                          scoring = scorer,\n",
    "                          n_jobs = 8,\n",
    "                          verbose = 2)\n",
    "    #fit\n",
    "    grid_fit = grid_obj.fit(X_train, Y_train)\n",
    "    # best classifier\n",
    "    best_clf = grid_fit.best_estimator_\n",
    "    #predict\n",
    "    Y_pred = best_clf.predict(X_train)\n",
    "\n",
    "    # Check the score\n",
    "    clf_accuracy = accuracy_score(Y_train, Y_pred)\n",
    "    clf_f1_score = f1_score(Y_train, Y_pred, average='micro')\n",
    "    \n",
    "    print(\"%s model accuracy: %.3f\" % (class_name, clf_accuracy))\n",
    "    print(\"%s model f1-score: %.3f\" % (class_name, clf_f1_score))\n",
    "    # crosstab = pd.crosstab(Y_test, Y_pred, rownames=['Actual Destrict'], colnames=['Predicted Destrict'])\n",
    "    \n",
    "    return best_clf, X_train, Y_pred"
   ]
  },
  {
   "cell_type": "code",
   "execution_count": 85,
   "metadata": {},
   "outputs": [],
   "source": [
    "# Set timestamp\n",
    "starttime = time.time()"
   ]
  },
  {
   "cell_type": "code",
   "execution_count": 86,
   "metadata": {
    "scrolled": true
   },
   "outputs": [
    {
     "name": "stderr",
     "output_type": "stream",
     "text": [
      "C:\\Users\\geral\\Anaconda3\\lib\\site-packages\\sklearn\\model_selection\\_split.py:1978: FutureWarning: The default value of cv will change from 3 to 5 in version 0.22. Specify it explicitly to silence this warning.\n",
      "  warnings.warn(CV_WARNING, FutureWarning)\n",
      "[Parallel(n_jobs=8)]: Using backend LokyBackend with 8 concurrent workers.\n"
     ]
    },
    {
     "name": "stdout",
     "output_type": "stream",
     "text": [
      "Fitting 3 folds for each of 16 candidates, totalling 48 fits\n"
     ]
    },
    {
     "name": "stderr",
     "output_type": "stream",
     "text": [
      "[Parallel(n_jobs=8)]: Done  25 tasks      | elapsed:   25.9s\n",
      "[Parallel(n_jobs=8)]: Done  48 out of  48 | elapsed:   47.5s finished\n"
     ]
    },
    {
     "name": "stdout",
     "output_type": "stream",
     "text": [
      "RandomForestClassifier model accuracy: 1.000\n",
      "RandomForestClassifier model f1-score: 1.000\n"
     ]
    }
   ],
   "source": [
    "best_clf, X_train, Y_preds = fit_random_forest_classifier(X_features, Y_target)"
   ]
  },
  {
   "cell_type": "code",
   "execution_count": 87,
   "metadata": {},
   "outputs": [
    {
     "name": "stdout",
     "output_type": "stream",
     "text": [
      "Function completed in 0m 50s\n"
     ]
    }
   ],
   "source": [
    "# show the runtime\n",
    "runtime = time.time() - starttime    \n",
    "print('Function completed in {:.0f}m {:.0f}s'.format(runtime // 60, runtime % 60))"
   ]
  },
  {
   "cell_type": "code",
   "execution_count": 88,
   "metadata": {},
   "outputs": [
    {
     "data": {
      "text/plain": [
       "RandomForestClassifier(bootstrap=False, class_weight=None, criterion='gini',\n",
       "                       max_depth=3, max_features=0.5, max_leaf_nodes=None,\n",
       "                       min_impurity_decrease=0.0, min_impurity_split=None,\n",
       "                       min_samples_leaf=1, min_samples_split=2,\n",
       "                       min_weight_fraction_leaf=0.0, n_estimators=200, n_jobs=8,\n",
       "                       oob_score=False, random_state=None, verbose=0,\n",
       "                       warm_start=False)"
      ]
     },
     "execution_count": 88,
     "metadata": {},
     "output_type": "execute_result"
    }
   ],
   "source": [
    "# show best classifier\n",
    "best_clf"
   ]
  },
  {
   "cell_type": "markdown",
   "metadata": {},
   "source": [
    "<a id='evaluation'></a>\n",
    "## 8. Evaluation"
   ]
  },
  {
   "cell_type": "markdown",
   "metadata": {},
   "source": [
    "<a id='features'></a>\n",
    "### 8.1 Find the Best Features"
   ]
  },
  {
   "cell_type": "code",
   "execution_count": 89,
   "metadata": {},
   "outputs": [],
   "source": [
    "# now I have a view to the importance features \n",
    "importances = best_clf.feature_importances_"
   ]
  },
  {
   "cell_type": "code",
   "execution_count": 90,
   "metadata": {},
   "outputs": [
    {
     "name": "stdout",
     "output_type": "stream",
     "text": [
      "Feature ranking:\n",
      "1. feature 0 (0.444123)\n",
      "2. feature 1 (0.352814)\n",
      "3. feature 2 (0.202954)\n",
      "4. feature 5 (0.000074)\n",
      "5. feature 6 (0.000021)\n",
      "6. feature 4 (0.000013)\n",
      "7. feature 3 (0.000000)\n"
     ]
    }
   ],
   "source": [
    "std = np.std([best_clf.feature_importances_ for tree in best_clf.estimators_],\n",
    "             axis=0)\n",
    "indices = np.argsort(importances)[::-1]\n",
    "\n",
    "# Print the feature ranking\n",
    "print(\"Feature ranking:\")\n",
    "\n",
    "for f in range(X_train.shape[1]):\n",
    "    print(\"%d. feature %d (%f)\" % (f + 1, indices[f], importances[indices[f]]))"
   ]
  },
  {
   "cell_type": "code",
   "execution_count": 92,
   "metadata": {},
   "outputs": [
    {
     "data": {
      "image/png": "[encoded data removed]",
      "text/plain": [
       "<Figure size 720x432 with 1 Axes>"
      ]
     },
     "metadata": {},
     "output_type": "display_data"
    }
   ],
   "source": [
    "# Plot feature importance\n",
    "feature_imp = pd.DataFrame(sorted(zip(importances[indices], X_train.columns)), columns=['Value','Feature'])\n",
    "\n",
    "plt.figure(figsize=(10, 6))\n",
    "sns.barplot(x=\"Value\", y=\"Feature\", data=feature_imp.sort_values(by=\"Value\", ascending=False))\n",
    "plt.title('Feature Importances', fontsize=14)\n",
    "plt.tight_layout()\n",
    "plt.savefig(\"./figure/importances_feature.jpg\", bbox_inches='tight')\n",
    "plt.show()"
   ]
  },
  {
   "cell_type": "code",
   "execution_count": null,
   "metadata": {},
   "outputs": [],
   "source": [
    "<a id='PCA'></a>\n",
    "### 8.2 PCA with the Offer Model "
   ]
  },
  {
   "cell_type": "markdown",
   "metadata": {},
   "source": [
    "The model RandomForestClassifier performs pretty well on the test set using the adjusted data. The most importance features in this case is the offer and behind this the time. Let's see how well a model works with PCA"
   ]
  },
  {
   "cell_type": "code",
   "execution_count": 93,
   "metadata": {},
   "outputs": [],
   "source": [
    "# Transforms data using PCA to create n_components, and provides back the results of the\n",
    "# transformation.\n",
    "# n_components - int - the number of principal components to create\n",
    "# data - the data you would like to transform\n",
    "\n",
    "n_components = 5\n",
    "\n",
    "scaler = StandardScaler().fit_transform(X_features)\n",
    "# PCA model\n",
    "offer_pca = PCA(n_components)\n",
    "# PCA features\n",
    "X_pca = offer_pca.fit_transform(scaler)"
   ]
  },
  {
   "cell_type": "code",
   "execution_count": 94,
   "metadata": {},
   "outputs": [],
   "source": [
    "# Set timestamp\n",
    "starttime = time.time()"
   ]
  },
  {
   "cell_type": "code",
   "execution_count": 95,
   "metadata": {},
   "outputs": [
    {
     "name": "stderr",
     "output_type": "stream",
     "text": [
      "C:\\Users\\geral\\Anaconda3\\lib\\site-packages\\sklearn\\model_selection\\_split.py:1978: FutureWarning: The default value of cv will change from 3 to 5 in version 0.22. Specify it explicitly to silence this warning.\n",
      "  warnings.warn(CV_WARNING, FutureWarning)\n"
     ]
    },
    {
     "name": "stdout",
     "output_type": "stream",
     "text": [
      "Fitting 3 folds for each of 16 candidates, totalling 48 fits\n"
     ]
    },
    {
     "name": "stderr",
     "output_type": "stream",
     "text": [
      "[Parallel(n_jobs=8)]: Using backend LokyBackend with 8 concurrent workers.\n",
      "[Parallel(n_jobs=8)]: Done  25 tasks      | elapsed:   53.0s\n",
      "[Parallel(n_jobs=8)]: Done  48 out of  48 | elapsed:  1.5min finished\n"
     ]
    },
    {
     "name": "stdout",
     "output_type": "stream",
     "text": [
      "RandomForestClassifier model accuracy: 1.000\n",
      "RandomForestClassifier model f1-score: 1.000\n"
     ]
    }
   ],
   "source": [
    "clf_pca, X_train, Y_preds = fit_random_forest_classifier(X_pca, Y_target)"
   ]
  },
  {
   "cell_type": "code",
   "execution_count": 96,
   "metadata": {},
   "outputs": [
    {
     "name": "stdout",
     "output_type": "stream",
     "text": [
      "Function completed in 1m 36s\n"
     ]
    }
   ],
   "source": [
    "# show the runtime\n",
    "runtime = time.time() - starttime    \n",
    "print('Function completed in {:.0f}m {:.0f}s'.format(runtime // 60, runtime % 60))"
   ]
  },
  {
   "cell_type": "code",
   "execution_count": 97,
   "metadata": {},
   "outputs": [
    {
     "data": {
      "text/plain": [
       "RandomForestClassifier(bootstrap=False, class_weight=None, criterion='gini',\n",
       "                       max_depth=3, max_features=0.5, max_leaf_nodes=None,\n",
       "                       min_impurity_decrease=0.0, min_impurity_split=None,\n",
       "                       min_samples_leaf=1, min_samples_split=2,\n",
       "                       min_weight_fraction_leaf=0.0, n_estimators=200, n_jobs=8,\n",
       "                       oob_score=False, random_state=None, verbose=0,\n",
       "                       warm_start=False)"
      ]
     },
     "execution_count": 97,
     "metadata": {},
     "output_type": "execute_result"
    }
   ],
   "source": [
    "clf_pca"
   ]
  },
  {
   "cell_type": "code",
   "execution_count": 98,
   "metadata": {},
   "outputs": [
    {
     "data": {
      "text/plain": [
       "Index(['bogo', 'discount', 'informational', 'gender', 'age', 'income',\n",
       "       'member_year'],\n",
       "      dtype='object')"
      ]
     },
     "execution_count": 98,
     "metadata": {},
     "output_type": "execute_result"
    }
   ],
   "source": [
    "X_features.columns"
   ]
  },
  {
   "cell_type": "code",
   "execution_count": 99,
   "metadata": {},
   "outputs": [
    {
     "data": {
      "text/plain": [
       "PCA(copy=True, iterated_power='auto', n_components=5, random_state=None,\n",
       "    svd_solver='auto', tol=0.0, whiten=False)"
      ]
     },
     "execution_count": 99,
     "metadata": {},
     "output_type": "execute_result"
    }
   ],
   "source": [
    "offer_pca"
   ]
  },
  {
   "cell_type": "code",
   "execution_count": 102,
   "metadata": {},
   "outputs": [],
   "source": [
    "# Set timestamp\n",
    "starttime = time.time()"
   ]
  },
  {
   "cell_type": "code",
   "execution_count": 103,
   "metadata": {},
   "outputs": [],
   "source": [
    "# Inverse encode data and give back a data frame\n",
    "def pca_results(full_dataset, pca):\n",
    "    '''\n",
    "    Create a DataFrame of the PCA results\n",
    "    Includes dimension feature weights and explained variance\n",
    "    '''\n",
    "\n",
    "    # Dimension indexing\n",
    "    dimensions = dimensions = ['Dimension {}'.format(i) for i in range(1,len(pca.components_)+1)]\n",
    "\n",
    "    # PCA components\n",
    "    components = pd.DataFrame(np.round(pca.components_, 4), columns = full_dataset.keys())\n",
    "    components.index = dimensions\n",
    "\n",
    "    # PCA explained variance\n",
    "    ratios = pca.explained_variance_ratio_.reshape(len(pca.components_), 1)\n",
    "    variance_ratios = pd.DataFrame(np.round(ratios, 4), columns = ['Explained Variance'])\n",
    "    variance_ratios.index = dimensions\n",
    "\n",
    "    # Return a concatenated DataFrame\n",
    "    return pd.concat([variance_ratios, components], axis = 1)"
   ]
  },
  {
   "cell_type": "code",
   "execution_count": 104,
   "metadata": {},
   "outputs": [],
   "source": [
    "df_pca = pca_results(X_features, offer_pca)"
   ]
  },
  {
   "cell_type": "code",
   "execution_count": 105,
   "metadata": {},
   "outputs": [
    {
     "name": "stdout",
     "output_type": "stream",
     "text": [
      "Function completed in 0m 2s\n"
     ]
    }
   ],
   "source": [
    "# show the runtime\n",
    "runtime = time.time() - starttime    \n",
    "print('Function completed in {:.0f}m {:.0f}s'.format(runtime // 60, runtime % 60))"
   ]
  },
  {
   "cell_type": "code",
   "execution_count": 112,
   "metadata": {},
   "outputs": [
    {
     "data": {
      "text/html": [
       "<div>\n",
       "<style scoped>\n",
       "    .dataframe tbody tr th:only-of-type {\n",
       "        vertical-align: middle;\n",
       "    }\n",
       "\n",
       "    .dataframe tbody tr th {\n",
       "        vertical-align: top;\n",
       "    }\n",
       "\n",
       "    .dataframe thead th {\n",
       "        text-align: right;\n",
       "    }\n",
       "</style>\n",
       "<table border=\"1\" class=\"dataframe\">\n",
       "  <thead>\n",
       "    <tr style=\"text-align: right;\">\n",
       "      <th></th>\n",
       "      <th>Explained Variance</th>\n",
       "      <th>bogo</th>\n",
       "      <th>discount</th>\n",
       "      <th>informational</th>\n",
       "      <th>gender</th>\n",
       "      <th>age</th>\n",
       "      <th>income</th>\n",
       "      <th>member_year</th>\n",
       "    </tr>\n",
       "  </thead>\n",
       "  <tbody>\n",
       "    <tr>\n",
       "      <th>Dimension 1</th>\n",
       "      <td>0.2479</td>\n",
       "      <td>-0.7095</td>\n",
       "      <td>0.7045</td>\n",
       "      <td>0.0100</td>\n",
       "      <td>0.0087</td>\n",
       "      <td>0.0028</td>\n",
       "      <td>-0.0004</td>\n",
       "      <td>-0.0088</td>\n",
       "    </tr>\n",
       "    <tr>\n",
       "      <th>Dimension 2</th>\n",
       "      <td>0.2056</td>\n",
       "      <td>-0.0388</td>\n",
       "      <td>-0.0441</td>\n",
       "      <td>0.1138</td>\n",
       "      <td>0.4766</td>\n",
       "      <td>-0.5900</td>\n",
       "      <td>-0.6381</td>\n",
       "      <td>0.0355</td>\n",
       "    </tr>\n",
       "    <tr>\n",
       "      <th>Dimension 3</th>\n",
       "      <td>0.1804</td>\n",
       "      <td>-0.3136</td>\n",
       "      <td>-0.3273</td>\n",
       "      <td>0.8804</td>\n",
       "      <td>-0.0615</td>\n",
       "      <td>0.0920</td>\n",
       "      <td>0.0704</td>\n",
       "      <td>0.0477</td>\n",
       "    </tr>\n",
       "    <tr>\n",
       "      <th>Dimension 4</th>\n",
       "      <td>0.1432</td>\n",
       "      <td>-0.0090</td>\n",
       "      <td>-0.0240</td>\n",
       "      <td>0.0453</td>\n",
       "      <td>0.1582</td>\n",
       "      <td>0.0351</td>\n",
       "      <td>0.0412</td>\n",
       "      <td>-0.9845</td>\n",
       "    </tr>\n",
       "    <tr>\n",
       "      <th>Dimension 5</th>\n",
       "      <td>0.1252</td>\n",
       "      <td>0.0095</td>\n",
       "      <td>-0.0004</td>\n",
       "      <td>-0.0126</td>\n",
       "      <td>0.8350</td>\n",
       "      <td>0.4993</td>\n",
       "      <td>0.1679</td>\n",
       "      <td>0.1583</td>\n",
       "    </tr>\n",
       "  </tbody>\n",
       "</table>\n",
       "</div>"
      ],
      "text/plain": [
       "             Explained Variance    bogo  discount  informational  gender  \\\n",
       "Dimension 1              0.2479 -0.7095    0.7045         0.0100  0.0087   \n",
       "Dimension 2              0.2056 -0.0388   -0.0441         0.1138  0.4766   \n",
       "Dimension 3              0.1804 -0.3136   -0.3273         0.8804 -0.0615   \n",
       "Dimension 4              0.1432 -0.0090   -0.0240         0.0453  0.1582   \n",
       "Dimension 5              0.1252  0.0095   -0.0004        -0.0126  0.8350   \n",
       "\n",
       "                age  income  member_year  \n",
       "Dimension 1  0.0028 -0.0004      -0.0088  \n",
       "Dimension 2 -0.5900 -0.6381       0.0355  \n",
       "Dimension 3  0.0920  0.0704       0.0477  \n",
       "Dimension 4  0.0351  0.0412      -0.9845  \n",
       "Dimension 5  0.4993  0.1679       0.1583  "
      ]
     },
     "execution_count": 112,
     "metadata": {},
     "output_type": "execute_result"
    }
   ],
   "source": [
    "df_pca"
   ]
  },
  {
   "cell_type": "code",
   "execution_count": 111,
   "metadata": {},
   "outputs": [
    {
     "data": {
      "image/png": "[encoded data removed]",
      "text/plain": [
       "<Figure size 403.2x288 with 2 Axes>"
      ]
     },
     "metadata": {},
     "output_type": "display_data"
    }
   ],
   "source": [
    "plt.matshow(offer_pca.components_,cmap='viridis')\n",
    "# plt.figure(figsize=(10, 6))\n",
    "plt.yticks([0,1,2,3,4,5],['1. Dim','2. Dim','3. Dim', '4. Dim', '5. Dim'],fontsize=16)\n",
    "plt.colorbar()\n",
    "plt.xticks(range(len(df_pca)),df_pca,rotation=65,ha='left')\n",
    "plt.savefig(\"./figure/starbuck_PCA.jpg\", bbox_inches='tight')\n",
    "plt.show()"
   ]
  },
  {
   "cell_type": "markdown",
   "metadata": {},
   "source": [
    "<a id='EvalConclusion'></a>\n",
    "### 8.3 Conclusion \n",
    "\n",
    "Finally, I would like to reiterate my question. The questions about customers were processed according to income, gender and membership. The offers were shown exactly what it is. Here the 10 possible offers were divided into the offer types BOGO, discount and information. These are then divided according to their channels. With these results, the best possible version of the different models was made to infer the best offer.\n"
   ]
  },
  {
   "cell_type": "markdown",
   "metadata": {},
   "source": [
    "<a id='Enhancement'></a>\n",
    "### 8.4 Possible Enhancement in the Future\n",
    "\n",
    "The offers made available do not include the product range. There are also no other general conditions, such as seasons. With the additional data, the various offers and customer behavior could then be used to offer further targeted offers via the app. In addition, the LSH - locality sensitive hashing would be a very good model to react to (see alsohttps://github.com/mattilyra/LSH/blob/master/examples/Introduction.ipynb)"
   ]
  },
  {
   "cell_type": "markdown",
   "metadata": {},
   "source": [
    "<a id='Deploy'></a>\n",
    "## 9 Deployment\n",
    "\n",
    "Key findings from this analysis are used in a [blog post](https://medium.com/@geraldfranzkrieg/berlin-and-airbnb-a-deep-look-into-this-love-e0a70f3534ac?sk=ded53906389538ddcbd2a54f165deb34). \n",
    "This analysis can found [here](https://github.com/gerald-e/WADSBP_AirBnB)"
   ]
  },
  {
   "cell_type": "code",
   "execution_count": null,
   "metadata": {},
   "outputs": [],
   "source": [
    "!jupyter nbconvert *.ipynb"
   ]
  },
  {
   "cell_type": "code",
   "execution_count": null,
   "metadata": {},
   "outputs": [],
   "source": [
    "!pip freeze > requirements.txt"
   ]
  }
 ],
 "metadata": {
  "kernelspec": {
   "display_name": "Python 3",
   "language": "python",
   "name": "python3"
  },
  "language_info": {
   "codemirror_mode": {
    "name": "ipython",
    "version": 3
   },
   "file_extension": ".py",
   "mimetype": "text/x-python",
   "name": "python",
   "nbconvert_exporter": "python",
   "pygments_lexer": "ipython3",
   "version": "3.7.3"
  }
 },
 "nbformat": 4,
 "nbformat_minor": 2
}
